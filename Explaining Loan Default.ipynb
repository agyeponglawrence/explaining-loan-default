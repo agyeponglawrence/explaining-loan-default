{
 "cells": [
  {
   "cell_type": "markdown",
   "metadata": {},
   "source": [
    "# Part I - Explaining Loan Default: A Data Visualization Approach\n",
    "## by Lawrence Agyepong\n",
    "\n",
    "## Introduction\n",
    "\n",
    "\n",
    "The objective of this project is to employ exploratory data visualization techniques to examine the factors that predict loan default. I use loan data from Prosper Marketplace containing 113,937 loans with 81 variables on each loan, including loan amount, borrower rate (or interest rate), current loan status, borrower income, and many others. \n",
    "\n",
    "\n",
    "**About the Company**\n",
    "\n",
    "Prosper is the first peer-to-peer lending marketplace established in the United States in 2005. Since then, the company has helped more than 1,270,000 borrowers access more than \\\\$21 billion in loans. Through Prosper, individuals may make profitable and beneficial social investments in one another. Online applications are accepted for loans between $2,000 and \\\\$40,000 with fixed rates and fixed terms. Loan investments offer both individuals and institutions the chance to make a profit. On behalf of the investors and borrowers that were matched, Prosper manages all loan servicing. For more information about the company visit https://www.prosper.com/about. \n",
    "\n",
    "## Preliminary Wrangling\n"
   ]
  },
  {
   "cell_type": "code",
   "execution_count": 1,
   "metadata": {
    "ExecuteTime": {
     "end_time": "2022-07-11T13:19:04.683839Z",
     "start_time": "2022-07-11T13:18:46.543766Z"
    }
   },
   "outputs": [],
   "source": [
    "# Import all packages and set plots to be embedded inline\n",
    "import warnings\n",
    "import numpy as np\n",
    "import pandas as pd\n",
    "import matplotlib.pyplot as plt\n",
    "import seaborn as sb\n",
    "\n",
    "%matplotlib inline\n",
    "\n",
    "# suppress warnings from final output\n",
    "\n",
    "warnings.simplefilter(\"ignore\")"
   ]
  },
  {
   "cell_type": "code",
   "execution_count": 2,
   "metadata": {
    "ExecuteTime": {
     "end_time": "2022-07-11T13:19:15.279368Z",
     "start_time": "2022-07-11T13:19:04.688839Z"
    }
   },
   "outputs": [],
   "source": [
    "# Load the dataset\n",
    "loan = pd.read_csv('data/prosperLoanData.csv')"
   ]
  },
  {
   "cell_type": "code",
   "execution_count": 3,
   "metadata": {
    "ExecuteTime": {
     "end_time": "2022-07-11T13:19:15.533408Z",
     "start_time": "2022-07-11T13:19:15.289367Z"
    }
   },
   "outputs": [
    {
     "data": {
      "text/html": [
       "<div>\n",
       "<style scoped>\n",
       "    .dataframe tbody tr th:only-of-type {\n",
       "        vertical-align: middle;\n",
       "    }\n",
       "\n",
       "    .dataframe tbody tr th {\n",
       "        vertical-align: top;\n",
       "    }\n",
       "\n",
       "    .dataframe thead th {\n",
       "        text-align: right;\n",
       "    }\n",
       "</style>\n",
       "<table border=\"1\" class=\"dataframe\">\n",
       "  <thead>\n",
       "    <tr style=\"text-align: right;\">\n",
       "      <th></th>\n",
       "      <th>ListingKey</th>\n",
       "      <th>ListingNumber</th>\n",
       "      <th>ListingCreationDate</th>\n",
       "      <th>CreditGrade</th>\n",
       "      <th>Term</th>\n",
       "      <th>LoanStatus</th>\n",
       "      <th>ClosedDate</th>\n",
       "      <th>BorrowerAPR</th>\n",
       "      <th>BorrowerRate</th>\n",
       "      <th>LenderYield</th>\n",
       "      <th>...</th>\n",
       "      <th>LP_ServiceFees</th>\n",
       "      <th>LP_CollectionFees</th>\n",
       "      <th>LP_GrossPrincipalLoss</th>\n",
       "      <th>LP_NetPrincipalLoss</th>\n",
       "      <th>LP_NonPrincipalRecoverypayments</th>\n",
       "      <th>PercentFunded</th>\n",
       "      <th>Recommendations</th>\n",
       "      <th>InvestmentFromFriendsCount</th>\n",
       "      <th>InvestmentFromFriendsAmount</th>\n",
       "      <th>Investors</th>\n",
       "    </tr>\n",
       "  </thead>\n",
       "  <tbody>\n",
       "    <tr>\n",
       "      <th>0</th>\n",
       "      <td>1021339766868145413AB3B</td>\n",
       "      <td>193129</td>\n",
       "      <td>2007-08-26 19:09:29.263000000</td>\n",
       "      <td>C</td>\n",
       "      <td>36</td>\n",
       "      <td>Completed</td>\n",
       "      <td>2009-08-14 00:00:00</td>\n",
       "      <td>0.16516</td>\n",
       "      <td>0.1580</td>\n",
       "      <td>0.1380</td>\n",
       "      <td>...</td>\n",
       "      <td>-133.18</td>\n",
       "      <td>0.0</td>\n",
       "      <td>0.0</td>\n",
       "      <td>0.0</td>\n",
       "      <td>0.0</td>\n",
       "      <td>1.0</td>\n",
       "      <td>0</td>\n",
       "      <td>0</td>\n",
       "      <td>0.0</td>\n",
       "      <td>258</td>\n",
       "    </tr>\n",
       "    <tr>\n",
       "      <th>1</th>\n",
       "      <td>10273602499503308B223C1</td>\n",
       "      <td>1209647</td>\n",
       "      <td>2014-02-27 08:28:07.900000000</td>\n",
       "      <td>NaN</td>\n",
       "      <td>36</td>\n",
       "      <td>Current</td>\n",
       "      <td>NaN</td>\n",
       "      <td>0.12016</td>\n",
       "      <td>0.0920</td>\n",
       "      <td>0.0820</td>\n",
       "      <td>...</td>\n",
       "      <td>0.00</td>\n",
       "      <td>0.0</td>\n",
       "      <td>0.0</td>\n",
       "      <td>0.0</td>\n",
       "      <td>0.0</td>\n",
       "      <td>1.0</td>\n",
       "      <td>0</td>\n",
       "      <td>0</td>\n",
       "      <td>0.0</td>\n",
       "      <td>1</td>\n",
       "    </tr>\n",
       "    <tr>\n",
       "      <th>2</th>\n",
       "      <td>0EE9337825851032864889A</td>\n",
       "      <td>81716</td>\n",
       "      <td>2007-01-05 15:00:47.090000000</td>\n",
       "      <td>HR</td>\n",
       "      <td>36</td>\n",
       "      <td>Completed</td>\n",
       "      <td>2009-12-17 00:00:00</td>\n",
       "      <td>0.28269</td>\n",
       "      <td>0.2750</td>\n",
       "      <td>0.2400</td>\n",
       "      <td>...</td>\n",
       "      <td>-24.20</td>\n",
       "      <td>0.0</td>\n",
       "      <td>0.0</td>\n",
       "      <td>0.0</td>\n",
       "      <td>0.0</td>\n",
       "      <td>1.0</td>\n",
       "      <td>0</td>\n",
       "      <td>0</td>\n",
       "      <td>0.0</td>\n",
       "      <td>41</td>\n",
       "    </tr>\n",
       "    <tr>\n",
       "      <th>3</th>\n",
       "      <td>0EF5356002482715299901A</td>\n",
       "      <td>658116</td>\n",
       "      <td>2012-10-22 11:02:35.010000000</td>\n",
       "      <td>NaN</td>\n",
       "      <td>36</td>\n",
       "      <td>Current</td>\n",
       "      <td>NaN</td>\n",
       "      <td>0.12528</td>\n",
       "      <td>0.0974</td>\n",
       "      <td>0.0874</td>\n",
       "      <td>...</td>\n",
       "      <td>-108.01</td>\n",
       "      <td>0.0</td>\n",
       "      <td>0.0</td>\n",
       "      <td>0.0</td>\n",
       "      <td>0.0</td>\n",
       "      <td>1.0</td>\n",
       "      <td>0</td>\n",
       "      <td>0</td>\n",
       "      <td>0.0</td>\n",
       "      <td>158</td>\n",
       "    </tr>\n",
       "    <tr>\n",
       "      <th>4</th>\n",
       "      <td>0F023589499656230C5E3E2</td>\n",
       "      <td>909464</td>\n",
       "      <td>2013-09-14 18:38:39.097000000</td>\n",
       "      <td>NaN</td>\n",
       "      <td>36</td>\n",
       "      <td>Current</td>\n",
       "      <td>NaN</td>\n",
       "      <td>0.24614</td>\n",
       "      <td>0.2085</td>\n",
       "      <td>0.1985</td>\n",
       "      <td>...</td>\n",
       "      <td>-60.27</td>\n",
       "      <td>0.0</td>\n",
       "      <td>0.0</td>\n",
       "      <td>0.0</td>\n",
       "      <td>0.0</td>\n",
       "      <td>1.0</td>\n",
       "      <td>0</td>\n",
       "      <td>0</td>\n",
       "      <td>0.0</td>\n",
       "      <td>20</td>\n",
       "    </tr>\n",
       "  </tbody>\n",
       "</table>\n",
       "<p>5 rows × 81 columns</p>\n",
       "</div>"
      ],
      "text/plain": [
       "                ListingKey  ListingNumber            ListingCreationDate  \\\n",
       "0  1021339766868145413AB3B         193129  2007-08-26 19:09:29.263000000   \n",
       "1  10273602499503308B223C1        1209647  2014-02-27 08:28:07.900000000   \n",
       "2  0EE9337825851032864889A          81716  2007-01-05 15:00:47.090000000   \n",
       "3  0EF5356002482715299901A         658116  2012-10-22 11:02:35.010000000   \n",
       "4  0F023589499656230C5E3E2         909464  2013-09-14 18:38:39.097000000   \n",
       "\n",
       "  CreditGrade  Term LoanStatus           ClosedDate  BorrowerAPR  \\\n",
       "0           C    36  Completed  2009-08-14 00:00:00      0.16516   \n",
       "1         NaN    36    Current                  NaN      0.12016   \n",
       "2          HR    36  Completed  2009-12-17 00:00:00      0.28269   \n",
       "3         NaN    36    Current                  NaN      0.12528   \n",
       "4         NaN    36    Current                  NaN      0.24614   \n",
       "\n",
       "   BorrowerRate  LenderYield  ...  LP_ServiceFees  LP_CollectionFees  \\\n",
       "0        0.1580       0.1380  ...         -133.18                0.0   \n",
       "1        0.0920       0.0820  ...            0.00                0.0   \n",
       "2        0.2750       0.2400  ...          -24.20                0.0   \n",
       "3        0.0974       0.0874  ...         -108.01                0.0   \n",
       "4        0.2085       0.1985  ...          -60.27                0.0   \n",
       "\n",
       "   LP_GrossPrincipalLoss  LP_NetPrincipalLoss LP_NonPrincipalRecoverypayments  \\\n",
       "0                    0.0                  0.0                             0.0   \n",
       "1                    0.0                  0.0                             0.0   \n",
       "2                    0.0                  0.0                             0.0   \n",
       "3                    0.0                  0.0                             0.0   \n",
       "4                    0.0                  0.0                             0.0   \n",
       "\n",
       "   PercentFunded  Recommendations InvestmentFromFriendsCount  \\\n",
       "0            1.0                0                          0   \n",
       "1            1.0                0                          0   \n",
       "2            1.0                0                          0   \n",
       "3            1.0                0                          0   \n",
       "4            1.0                0                          0   \n",
       "\n",
       "  InvestmentFromFriendsAmount Investors  \n",
       "0                         0.0       258  \n",
       "1                         0.0         1  \n",
       "2                         0.0        41  \n",
       "3                         0.0       158  \n",
       "4                         0.0        20  \n",
       "\n",
       "[5 rows x 81 columns]"
      ]
     },
     "execution_count": 3,
     "metadata": {},
     "output_type": "execute_result"
    }
   ],
   "source": [
    "loan.head()"
   ]
  },
  {
   "cell_type": "code",
   "execution_count": 4,
   "metadata": {
    "ExecuteTime": {
     "end_time": "2022-07-11T13:19:15.570932Z",
     "start_time": "2022-07-11T13:19:15.539408Z"
    }
   },
   "outputs": [
    {
     "data": {
      "text/plain": [
       "(113937, 81)"
      ]
     },
     "execution_count": 4,
     "metadata": {},
     "output_type": "execute_result"
    }
   ],
   "source": [
    "loan.shape"
   ]
  },
  {
   "cell_type": "markdown",
   "metadata": {},
   "source": [
    "### What is the structure of your dataset?\n",
    "\n",
    "The data contains 113,937 loans with 81 variables. It comprises both quantitative and quality variables with some variables having missing values.\n",
    "\n",
    "\n",
    "### What is/are the main feature(s) of interest in your dataset?\n",
    "\n",
    "The primary objective is to identify the most important predictors of loan default. Hence the main feature of interest is  `LoanStatus`. The LoanStatus variable contains 12 categories: Current, Completed, ChargedOff, Defaulted, and Past Due Loans among others. Since this analysis is only interested in loans defaulted, I will filter the data to only include loans that are either completed or defaulted. \n",
    "\n",
    "### What features in the dataset do you think will help support your investigation into your feature(s) of interest?\n",
    "\n",
    "I suspect the following features to be predictors of loan default: \n",
    " \n",
    "1. Employment Status\n",
    "2. Income Range\n",
    "3. Borrower Rate: Borrower's interest rate for the loan. \n",
    "4. Prosper Score: A custom risk score built using historical Prosper data.\n",
    "5. Credit Score Range Lower\n",
    "6. Credit Score Range Upper\n",
    "7. Debt to income ratio\n",
    "8. Amount Delinquent"
   ]
  },
  {
   "cell_type": "markdown",
   "metadata": {},
   "source": [
    "### Data Assessing and Cleaning\n",
    "\n",
    "I will address the following two issues here:\n",
    "\n",
    "- Filter the data to only include loans that are either completed or defaulted\n",
    "- Drop features that are not relevant to this analysis\n",
    "\n",
    "The above actions will declutter the data to allow a focused analysis"
   ]
  },
  {
   "cell_type": "markdown",
   "metadata": {},
   "source": [
    "#### **Filter the data to only include loans which are either completed or defaulted**"
   ]
  },
  {
   "cell_type": "markdown",
   "metadata": {},
   "source": [
    "##### Code"
   ]
  },
  {
   "cell_type": "code",
   "execution_count": 6,
   "metadata": {
    "ExecuteTime": {
     "end_time": "2022-07-11T13:19:16.115545Z",
     "start_time": "2022-07-11T13:19:15.998023Z"
    }
   },
   "outputs": [
    {
     "data": {
      "text/plain": [
       "Current                   56576\n",
       "Completed                 38074\n",
       "Chargedoff                11992\n",
       "Defaulted                  5018\n",
       "Past Due (1-15 days)        806\n",
       "Past Due (31-60 days)       363\n",
       "Past Due (61-90 days)       313\n",
       "Past Due (91-120 days)      304\n",
       "Past Due (16-30 days)       265\n",
       "FinalPaymentInProgress      205\n",
       "Past Due (>120 days)         16\n",
       "Cancelled                     5\n",
       "Name: LoanStatus, dtype: int64"
      ]
     },
     "execution_count": 6,
     "metadata": {},
     "output_type": "execute_result"
    }
   ],
   "source": [
    "# View the values in LoanStatus\n",
    "loan.LoanStatus.value_counts()"
   ]
  },
  {
   "cell_type": "markdown",
   "metadata": {},
   "source": [
    "- The number of loans Completed and Defaulted are 38074 and 5018 respectively."
   ]
  },
  {
   "cell_type": "code",
   "execution_count": 7,
   "metadata": {
    "ExecuteTime": {
     "end_time": "2022-07-11T13:19:16.912199Z",
     "start_time": "2022-07-11T13:19:16.119544Z"
    }
   },
   "outputs": [],
   "source": [
    "# Filter to include only Completed and Defaulted Loans\n",
    "loans_completed = loan.query('LoanStatus == \"Completed\"')\n",
    "loans_defaulted = loan.query('LoanStatus == \"Defaulted\"')\n",
    "\n",
    "# Concatenate the two dataframes\n",
    "loans = pd.concat([loans_completed, loans_defaulted])\n",
    "loans = loans.reset_index(drop=True)"
   ]
  },
  {
   "cell_type": "markdown",
   "metadata": {},
   "source": [
    "##### Test"
   ]
  },
  {
   "cell_type": "code",
   "execution_count": 8,
   "metadata": {
    "ExecuteTime": {
     "end_time": "2022-07-11T13:19:16.975811Z",
     "start_time": "2022-07-11T13:19:16.945294Z"
    }
   },
   "outputs": [
    {
     "data": {
      "text/plain": [
       "Completed    38074\n",
       "Defaulted     5018\n",
       "Name: LoanStatus, dtype: int64"
      ]
     },
     "execution_count": 8,
     "metadata": {},
     "output_type": "execute_result"
    }
   ],
   "source": [
    "loans.LoanStatus.value_counts()"
   ]
  },
  {
   "cell_type": "markdown",
   "metadata": {},
   "source": [
    "#### Drop features that are not relevant to this analysis"
   ]
  },
  {
   "cell_type": "markdown",
   "metadata": {
    "ExecuteTime": {
     "end_time": "2022-07-04T04:29:45.289582Z",
     "start_time": "2022-07-04T04:29:45.275547Z"
    }
   },
   "source": [
    "##### Code"
   ]
  },
  {
   "cell_type": "code",
   "execution_count": 9,
   "metadata": {
    "ExecuteTime": {
     "end_time": "2022-07-11T13:19:17.492752Z",
     "start_time": "2022-07-11T13:19:16.981810Z"
    }
   },
   "outputs": [],
   "source": [
    "# Drop irrelevant columns\n",
    "interest_columns = [\n",
    "    'ListingKey', 'BorrowerRate', 'ProsperScore', 'EmploymentStatus',\n",
    "    'CreditScoreRangeLower', 'CreditScoreRangeUpper', 'AmountDelinquent',\n",
    "    'DebtToIncomeRatio', 'IncomeRange', 'LoanStatus'\n",
    "]\n",
    "\n",
    "loans = loans[interest_columns].copy()"
   ]
  },
  {
   "cell_type": "markdown",
   "metadata": {},
   "source": [
    "##### Test"
   ]
  },
  {
   "cell_type": "code",
   "execution_count": 10,
   "metadata": {
    "ExecuteTime": {
     "end_time": "2022-07-11T13:19:17.725797Z",
     "start_time": "2022-07-11T13:19:17.533753Z"
    },
    "scrolled": true
   },
   "outputs": [
    {
     "data": {
      "text/html": [
       "<div>\n",
       "<style scoped>\n",
       "    .dataframe tbody tr th:only-of-type {\n",
       "        vertical-align: middle;\n",
       "    }\n",
       "\n",
       "    .dataframe tbody tr th {\n",
       "        vertical-align: top;\n",
       "    }\n",
       "\n",
       "    .dataframe thead th {\n",
       "        text-align: right;\n",
       "    }\n",
       "</style>\n",
       "<table border=\"1\" class=\"dataframe\">\n",
       "  <thead>\n",
       "    <tr style=\"text-align: right;\">\n",
       "      <th></th>\n",
       "      <th>ListingKey</th>\n",
       "      <th>BorrowerRate</th>\n",
       "      <th>ProsperScore</th>\n",
       "      <th>EmploymentStatus</th>\n",
       "      <th>CreditScoreRangeLower</th>\n",
       "      <th>CreditScoreRangeUpper</th>\n",
       "      <th>AmountDelinquent</th>\n",
       "      <th>DebtToIncomeRatio</th>\n",
       "      <th>IncomeRange</th>\n",
       "      <th>LoanStatus</th>\n",
       "    </tr>\n",
       "  </thead>\n",
       "  <tbody>\n",
       "    <tr>\n",
       "      <th>0</th>\n",
       "      <td>1021339766868145413AB3B</td>\n",
       "      <td>0.1580</td>\n",
       "      <td>NaN</td>\n",
       "      <td>Self-employed</td>\n",
       "      <td>640.0</td>\n",
       "      <td>659.0</td>\n",
       "      <td>472.0</td>\n",
       "      <td>0.17</td>\n",
       "      <td>$25,000-49,999</td>\n",
       "      <td>Completed</td>\n",
       "    </tr>\n",
       "    <tr>\n",
       "      <th>1</th>\n",
       "      <td>0EE9337825851032864889A</td>\n",
       "      <td>0.2750</td>\n",
       "      <td>NaN</td>\n",
       "      <td>Not available</td>\n",
       "      <td>480.0</td>\n",
       "      <td>499.0</td>\n",
       "      <td>NaN</td>\n",
       "      <td>0.06</td>\n",
       "      <td>Not displayed</td>\n",
       "      <td>Completed</td>\n",
       "    </tr>\n",
       "    <tr>\n",
       "      <th>2</th>\n",
       "      <td>0F1734025150298088A5F2B</td>\n",
       "      <td>0.1325</td>\n",
       "      <td>NaN</td>\n",
       "      <td>Full-time</td>\n",
       "      <td>640.0</td>\n",
       "      <td>659.0</td>\n",
       "      <td>2224.0</td>\n",
       "      <td>0.27</td>\n",
       "      <td>$1-24,999</td>\n",
       "      <td>Completed</td>\n",
       "    </tr>\n",
       "    <tr>\n",
       "      <th>3</th>\n",
       "      <td>1017340630713945364DA6B</td>\n",
       "      <td>0.2075</td>\n",
       "      <td>NaN</td>\n",
       "      <td>Full-time</td>\n",
       "      <td>620.0</td>\n",
       "      <td>639.0</td>\n",
       "      <td>5200.0</td>\n",
       "      <td>0.09</td>\n",
       "      <td>$25,000-49,999</td>\n",
       "      <td>Completed</td>\n",
       "    </tr>\n",
       "    <tr>\n",
       "      <th>4</th>\n",
       "      <td>0F4F3571508214190FD75CB</td>\n",
       "      <td>0.2809</td>\n",
       "      <td>3.0</td>\n",
       "      <td>Employed</td>\n",
       "      <td>660.0</td>\n",
       "      <td>679.0</td>\n",
       "      <td>0.0</td>\n",
       "      <td>0.11</td>\n",
       "      <td>$25,000-49,999</td>\n",
       "      <td>Completed</td>\n",
       "    </tr>\n",
       "  </tbody>\n",
       "</table>\n",
       "</div>"
      ],
      "text/plain": [
       "                ListingKey  BorrowerRate  ProsperScore EmploymentStatus  \\\n",
       "0  1021339766868145413AB3B        0.1580           NaN    Self-employed   \n",
       "1  0EE9337825851032864889A        0.2750           NaN    Not available   \n",
       "2  0F1734025150298088A5F2B        0.1325           NaN        Full-time   \n",
       "3  1017340630713945364DA6B        0.2075           NaN        Full-time   \n",
       "4  0F4F3571508214190FD75CB        0.2809           3.0         Employed   \n",
       "\n",
       "   CreditScoreRangeLower  CreditScoreRangeUpper  AmountDelinquent  \\\n",
       "0                  640.0                  659.0             472.0   \n",
       "1                  480.0                  499.0               NaN   \n",
       "2                  640.0                  659.0            2224.0   \n",
       "3                  620.0                  639.0            5200.0   \n",
       "4                  660.0                  679.0               0.0   \n",
       "\n",
       "   DebtToIncomeRatio     IncomeRange LoanStatus  \n",
       "0               0.17  $25,000-49,999  Completed  \n",
       "1               0.06   Not displayed  Completed  \n",
       "2               0.27       $1-24,999  Completed  \n",
       "3               0.09  $25,000-49,999  Completed  \n",
       "4               0.11  $25,000-49,999  Completed  "
      ]
     },
     "execution_count": 10,
     "metadata": {},
     "output_type": "execute_result"
    }
   ],
   "source": [
    "loans.head()"
   ]
  },
  {
   "cell_type": "code",
   "execution_count": 11,
   "metadata": {
    "ExecuteTime": {
     "end_time": "2022-07-11T13:19:17.992929Z",
     "start_time": "2022-07-11T13:19:17.729797Z"
    }
   },
   "outputs": [
    {
     "name": "stdout",
     "output_type": "stream",
     "text": [
      "<class 'pandas.core.frame.DataFrame'>\n",
      "RangeIndex: 43092 entries, 0 to 43091\n",
      "Data columns (total 10 columns):\n",
      " #   Column                 Non-Null Count  Dtype  \n",
      "---  ------                 --------------  -----  \n",
      " 0   ListingKey             43092 non-null  object \n",
      " 1   BorrowerRate           43092 non-null  float64\n",
      " 2   ProsperScore           20669 non-null  float64\n",
      " 3   EmploymentStatus       41131 non-null  object \n",
      " 4   CreditScoreRangeLower  42550 non-null  float64\n",
      " 5   CreditScoreRangeUpper  42550 non-null  float64\n",
      " 6   AmountDelinquent       36832 non-null  float64\n",
      " 7   DebtToIncomeRatio      40103 non-null  float64\n",
      " 8   IncomeRange            43092 non-null  object \n",
      " 9   LoanStatus             43092 non-null  object \n",
      "dtypes: float64(6), object(4)\n",
      "memory usage: 3.3+ MB\n"
     ]
    }
   ],
   "source": [
    "loans.info()"
   ]
  },
  {
   "cell_type": "markdown",
   "metadata": {
    "ExecuteTime": {
     "end_time": "2022-07-04T04:43:47.750694Z",
     "start_time": "2022-07-04T04:43:47.659955Z"
    }
   },
   "source": [
    "Now the data has 43092 loans and 10 features with:\n",
    "\n",
    "5 Quantitative variables: \n",
    "- Continuous: `BorrowerRate`, `CreditScoreRatingLower`, `CreditScoreRatingUpper`, `AmountDelinquent`, `DebtToIncomeRatio`\n",
    "\n",
    "4 Qualitative variables: \n",
    "- Ordinal: `ProsperScore`, `IncomeRange`\n",
    "- Nominal: `EmploymentStatus`, `LoanStatus`"
   ]
  },
  {
   "cell_type": "markdown",
   "metadata": {},
   "source": [
    "## Univariate Exploration\n",
    "\n",
    "In this section, I investigate distributions of the individual variables."
   ]
  },
  {
   "cell_type": "markdown",
   "metadata": {
    "ExecuteTime": {
     "end_time": "2022-07-04T05:45:04.185741Z",
     "start_time": "2022-07-04T05:45:04.171229Z"
    }
   },
   "source": [
    "### The Dependent Variable: Loan Status\n",
    "\n",
    "First, I am going to explore the main variable of interest: LoanStatus"
   ]
  },
  {
   "cell_type": "markdown",
   "metadata": {},
   "source": [
    "Since I will be creating numerous countplot and barplots, I create a function to prevent repetitive coding."
   ]
  },
  {
   "cell_type": "code",
   "execution_count": 12,
   "metadata": {
    "ExecuteTime": {
     "end_time": "2022-07-11T13:19:18.295134Z",
     "start_time": "2022-07-11T13:19:18.001927Z"
    }
   },
   "outputs": [],
   "source": [
    "# A function that creates countplot\n",
    "def countplot(x, rotate_xlabel=0):\n",
    "    '''This function creates countplot\n",
    "    Parameters\n",
    "    ----------\n",
    "    x: str, column \n",
    "    rotate_xlabel: int, angle of rotation of x-axis ticks'''\n",
    "    plt.figure(figsize=[8, 5])\n",
    "    sb.countplot(data=loans, x=x, color='black')\n",
    "    plt.title('Distribution of ' + x)\n",
    "    plt.xticks(rotation=rotate_xlabel)\n",
    "    plt.ylabel('Frequency')\n",
    "\n",
    "\n",
    "# Plot the distribution on a barplot\n",
    "def Freq_plot(x, data=loans, rotate_xlabel=0):\n",
    "    '''Create Relative Frequeny Barplot\n",
    "    Parameters\n",
    "    -----------\n",
    "    x: str, column\n",
    "    data: dataframe\n",
    "     rotate_xlabel: int, angle of rotation of x-axis ticks'''\n",
    "    # Create a dataframe of relative frequency\n",
    "    rel_freq = 100 * (data.groupby(x).size() /\n",
    "                      data.shape[0]).sort_values(ascending=False)\n",
    "    rel_freq = rel_freq.reset_index(name='Relative Frequency')\n",
    "    print(rel_freq)\n",
    "    # Plot the data\n",
    "    plt.figure(figsize=[8, 5])\n",
    "    sb.barplot(data=rel_freq, x=x, y='Relative Frequency', color='black')\n",
    "    plt.xlabel(x)\n",
    "    plt.ylabel('Relative Frequency (%)')\n",
    "    plt.xticks(rotation=rotate_xlabel)"
   ]
  },
  {
   "cell_type": "code",
   "execution_count": 13,
   "metadata": {
    "ExecuteTime": {
     "end_time": "2022-07-11T13:19:20.306302Z",
     "start_time": "2022-07-11T13:19:18.301133Z"
    }
   },
   "outputs": [
    {
     "name": "stdout",
     "output_type": "stream",
     "text": [
      "  LoanStatus  Relative Frequency\n",
      "0  Completed           88.355147\n",
      "1  Defaulted           11.644853\n"
     ]
    },
    {
     "data": {
      "image/png": "[encoded data removed]",
      "text/plain": [
       "<Figure size 576x360 with 1 Axes>"
      ]
     },
     "metadata": {
      "needs_background": "light"
     },
     "output_type": "display_data"
    },
    {
     "data": {
      "image/png": "[encoded data removed]",
      "text/plain": [
       "<Figure size 576x360 with 1 Axes>"
      ]
     },
     "metadata": {
      "needs_background": "light"
     },
     "output_type": "display_data"
    }
   ],
   "source": [
    "# LoanStatus distribution\n",
    "countplot('LoanStatus')\n",
    "\n",
    "# Now find the relative frequency distribution of LoanStatus\n",
    "Freq_plot('LoanStatus')"
   ]
  },
  {
   "cell_type": "markdown",
   "metadata": {},
   "source": [
    "The number of loans that have been completed dominates that data with over 35000 loans completed corresponding to more than 85% of the loans. \n",
    "For the purpose of subsequent analysis in the other sections, I will create a binary variable for the LoanStatus variable i.e., 1 for Defaulted and O for completed."
   ]
  },
  {
   "cell_type": "code",
   "execution_count": 14,
   "metadata": {
    "ExecuteTime": {
     "end_time": "2022-07-11T13:19:20.369797Z",
     "start_time": "2022-07-11T13:19:20.330286Z"
    }
   },
   "outputs": [],
   "source": [
    "# Convert LoanStatus to binary\n",
    "map_loan_status = {'Completed': 0, 'Defaulted': 1}\n",
    "loans['default'] = loans.LoanStatus.replace(map_loan_status)"
   ]
  },
  {
   "cell_type": "code",
   "execution_count": 15,
   "metadata": {
    "ExecuteTime": {
     "end_time": "2022-07-11T13:19:20.672363Z",
     "start_time": "2022-07-11T13:19:20.372798Z"
    }
   },
   "outputs": [
    {
     "data": {
      "text/html": [
       "<div>\n",
       "<style scoped>\n",
       "    .dataframe tbody tr th:only-of-type {\n",
       "        vertical-align: middle;\n",
       "    }\n",
       "\n",
       "    .dataframe tbody tr th {\n",
       "        vertical-align: top;\n",
       "    }\n",
       "\n",
       "    .dataframe thead th {\n",
       "        text-align: right;\n",
       "    }\n",
       "</style>\n",
       "<table border=\"1\" class=\"dataframe\">\n",
       "  <thead>\n",
       "    <tr style=\"text-align: right;\">\n",
       "      <th></th>\n",
       "      <th>ListingKey</th>\n",
       "      <th>BorrowerRate</th>\n",
       "      <th>ProsperScore</th>\n",
       "      <th>EmploymentStatus</th>\n",
       "      <th>CreditScoreRangeLower</th>\n",
       "      <th>CreditScoreRangeUpper</th>\n",
       "      <th>AmountDelinquent</th>\n",
       "      <th>DebtToIncomeRatio</th>\n",
       "      <th>IncomeRange</th>\n",
       "      <th>LoanStatus</th>\n",
       "      <th>default</th>\n",
       "    </tr>\n",
       "  </thead>\n",
       "  <tbody>\n",
       "    <tr>\n",
       "      <th>0</th>\n",
       "      <td>1021339766868145413AB3B</td>\n",
       "      <td>0.1580</td>\n",
       "      <td>NaN</td>\n",
       "      <td>Self-employed</td>\n",
       "      <td>640.0</td>\n",
       "      <td>659.0</td>\n",
       "      <td>472.0</td>\n",
       "      <td>0.17</td>\n",
       "      <td>$25,000-49,999</td>\n",
       "      <td>Completed</td>\n",
       "      <td>0</td>\n",
       "    </tr>\n",
       "    <tr>\n",
       "      <th>1</th>\n",
       "      <td>0EE9337825851032864889A</td>\n",
       "      <td>0.2750</td>\n",
       "      <td>NaN</td>\n",
       "      <td>Not available</td>\n",
       "      <td>480.0</td>\n",
       "      <td>499.0</td>\n",
       "      <td>NaN</td>\n",
       "      <td>0.06</td>\n",
       "      <td>Not displayed</td>\n",
       "      <td>Completed</td>\n",
       "      <td>0</td>\n",
       "    </tr>\n",
       "    <tr>\n",
       "      <th>2</th>\n",
       "      <td>0F1734025150298088A5F2B</td>\n",
       "      <td>0.1325</td>\n",
       "      <td>NaN</td>\n",
       "      <td>Full-time</td>\n",
       "      <td>640.0</td>\n",
       "      <td>659.0</td>\n",
       "      <td>2224.0</td>\n",
       "      <td>0.27</td>\n",
       "      <td>$1-24,999</td>\n",
       "      <td>Completed</td>\n",
       "      <td>0</td>\n",
       "    </tr>\n",
       "    <tr>\n",
       "      <th>3</th>\n",
       "      <td>1017340630713945364DA6B</td>\n",
       "      <td>0.2075</td>\n",
       "      <td>NaN</td>\n",
       "      <td>Full-time</td>\n",
       "      <td>620.0</td>\n",
       "      <td>639.0</td>\n",
       "      <td>5200.0</td>\n",
       "      <td>0.09</td>\n",
       "      <td>$25,000-49,999</td>\n",
       "      <td>Completed</td>\n",
       "      <td>0</td>\n",
       "    </tr>\n",
       "    <tr>\n",
       "      <th>4</th>\n",
       "      <td>0F4F3571508214190FD75CB</td>\n",
       "      <td>0.2809</td>\n",
       "      <td>3.0</td>\n",
       "      <td>Employed</td>\n",
       "      <td>660.0</td>\n",
       "      <td>679.0</td>\n",
       "      <td>0.0</td>\n",
       "      <td>0.11</td>\n",
       "      <td>$25,000-49,999</td>\n",
       "      <td>Completed</td>\n",
       "      <td>0</td>\n",
       "    </tr>\n",
       "  </tbody>\n",
       "</table>\n",
       "</div>"
      ],
      "text/plain": [
       "                ListingKey  BorrowerRate  ProsperScore EmploymentStatus  \\\n",
       "0  1021339766868145413AB3B        0.1580           NaN    Self-employed   \n",
       "1  0EE9337825851032864889A        0.2750           NaN    Not available   \n",
       "2  0F1734025150298088A5F2B        0.1325           NaN        Full-time   \n",
       "3  1017340630713945364DA6B        0.2075           NaN        Full-time   \n",
       "4  0F4F3571508214190FD75CB        0.2809           3.0         Employed   \n",
       "\n",
       "   CreditScoreRangeLower  CreditScoreRangeUpper  AmountDelinquent  \\\n",
       "0                  640.0                  659.0             472.0   \n",
       "1                  480.0                  499.0               NaN   \n",
       "2                  640.0                  659.0            2224.0   \n",
       "3                  620.0                  639.0            5200.0   \n",
       "4                  660.0                  679.0               0.0   \n",
       "\n",
       "   DebtToIncomeRatio     IncomeRange LoanStatus  default  \n",
       "0               0.17  $25,000-49,999  Completed        0  \n",
       "1               0.06   Not displayed  Completed        0  \n",
       "2               0.27       $1-24,999  Completed        0  \n",
       "3               0.09  $25,000-49,999  Completed        0  \n",
       "4               0.11  $25,000-49,999  Completed        0  "
      ]
     },
     "execution_count": 15,
     "metadata": {},
     "output_type": "execute_result"
    }
   ],
   "source": [
    "loans.head()"
   ]
  },
  {
   "cell_type": "markdown",
   "metadata": {},
   "source": [
    "### The Independent Variables\n",
    "\n",
    "Next, I investigate the distributions of the features/predictors of loan status. \n",
    "I organize this part into qualitative and quantitative variables. "
   ]
  },
  {
   "cell_type": "markdown",
   "metadata": {},
   "source": [
    "#### Qualitative Variables\n",
    "- EmploymentStatus\n",
    "- IncomeRange\n",
    "- ProsperScore"
   ]
  },
  {
   "cell_type": "markdown",
   "metadata": {},
   "source": [
    "##### Employment Status"
   ]
  },
  {
   "cell_type": "code",
   "execution_count": 16,
   "metadata": {
    "ExecuteTime": {
     "end_time": "2022-07-11T13:19:21.831158Z",
     "start_time": "2022-07-11T13:19:20.677365Z"
    }
   },
   "outputs": [
    {
     "name": "stdout",
     "output_type": "stream",
     "text": [
      "  EmploymentStatus  Relative Frequency\n",
      "0        Full-time           45.516569\n",
      "1         Employed           30.079829\n",
      "2    Not available            9.934559\n",
      "3    Self-employed            4.708531\n",
      "4        Part-time            1.981806\n",
      "5          Retired            1.199759\n",
      "6            Other            1.167270\n",
      "7     Not employed            0.860949\n"
     ]
    },
    {
     "data": {
      "image/png": "[encoded data removed]",
      "text/plain": [
       "<Figure size 576x360 with 1 Axes>"
      ]
     },
     "metadata": {
      "needs_background": "light"
     },
     "output_type": "display_data"
    },
    {
     "data": {
      "image/png": "[encoded data removed]",
      "text/plain": [
       "<Figure size 576x360 with 1 Axes>"
      ]
     },
     "metadata": {
      "needs_background": "light"
     },
     "output_type": "display_data"
    }
   ],
   "source": [
    "# Distribution of Employment Status\n",
    "countplot('EmploymentStatus', rotate_xlabel=15)\n",
    "\n",
    "# Relative Frequency Distribution\n",
    "Freq_plot('EmploymentStatus', rotate_xlabel=15)"
   ]
  },
  {
   "cell_type": "markdown",
   "metadata": {},
   "source": [
    "Over 45% of the loan applicants have full-time jobs, and about 30% are in the 'Employed' category, 10% are missing observations, about 5% are self_employed and the rest are either part-time, retire, or not employed. There is some ambiguity concerning the \"Employed\" category. I don't seem to understand how those in that category are different from the other forms of employment i.e., full-time and self-employed. "
   ]
  },
  {
   "cell_type": "markdown",
   "metadata": {
    "ExecuteTime": {
     "end_time": "2022-07-04T06:34:19.766557Z",
     "start_time": "2022-07-04T06:34:19.410627Z"
    }
   },
   "source": [
    "##### Income Range and ProsperScore"
   ]
  },
  {
   "cell_type": "code",
   "execution_count": 17,
   "metadata": {
    "ExecuteTime": {
     "end_time": "2022-07-11T13:19:21.864685Z",
     "start_time": "2022-07-11T13:19:21.847160Z"
    }
   },
   "outputs": [],
   "source": [
    "# Exclude the rows with ProsperScore of 11\n",
    "loans.ProsperScore = loans.ProsperScore.replace(11, np.nan)"
   ]
  },
  {
   "cell_type": "code",
   "execution_count": 18,
   "metadata": {
    "ExecuteTime": {
     "end_time": "2022-07-11T13:19:21.987212Z",
     "start_time": "2022-07-11T13:19:21.867678Z"
    }
   },
   "outputs": [],
   "source": [
    "# Replace $0 with Nan\n",
    "loans.IncomeRange = loans.IncomeRange.replace('$0', np.nan)"
   ]
  },
  {
   "cell_type": "code",
   "execution_count": 19,
   "metadata": {
    "ExecuteTime": {
     "end_time": "2022-07-11T13:19:22.096729Z",
     "start_time": "2022-07-11T13:19:21.992211Z"
    }
   },
   "outputs": [],
   "source": [
    "# convert IncomeRange and ProsperScore into ordered categorical types\n",
    "ordinal_var_dict = {\n",
    "    'IncomeRange': [\n",
    "        'Not employed', '$1-24,999', '$25,000-49,999', '$50,000-74,999',\n",
    "        '$75,000-99,999', '$100,000+', 'Not displayed'],\n",
    "    'ProsperScore': [1, 2, 3, 4, 5, 6, 7, 8, 9, 10]\n",
    "}\n",
    "\n",
    "for var in ordinal_var_dict:\n",
    "    ordered_var = pd.api.types.CategoricalDtype(\n",
    "        ordered=True, categories=ordinal_var_dict[var])\n",
    "    loans[var] = loans[var].astype(ordered_var)"
   ]
  },
  {
   "cell_type": "code",
   "execution_count": 20,
   "metadata": {
    "ExecuteTime": {
     "end_time": "2022-07-11T13:19:22.556848Z",
     "start_time": "2022-07-11T13:19:22.100728Z"
    }
   },
   "outputs": [
    {
     "name": "stdout",
     "output_type": "stream",
     "text": [
      "      IncomeRange  Relative Frequency\n",
      "0  $25,000-49,999           28.267428\n",
      "1  $50,000-74,999           23.568180\n",
      "2   Not displayed           14.752158\n",
      "3  $75,000-99,999           12.273740\n",
      "4       $100,000+           11.825861\n",
      "5       $1-24,999            7.523438\n",
      "6    Not employed            0.812216\n"
     ]
    },
    {
     "data": {
      "image/png": "[encoded data removed]",
      "text/plain": [
       "<Figure size 576x360 with 1 Axes>"
      ]
     },
     "metadata": {
      "needs_background": "light"
     },
     "output_type": "display_data"
    }
   ],
   "source": [
    "# Distribution of Income Range\n",
    "Freq_plot('IncomeRange', rotate_xlabel=15)"
   ]
  },
  {
   "cell_type": "markdown",
   "metadata": {
    "ExecuteTime": {
     "end_time": "2022-07-04T11:12:49.188568Z",
     "start_time": "2022-07-04T11:12:48.318605Z"
    }
   },
   "source": [
    "About half of the loan applicants fall within the \\\\$25,000-74,999 income bracket. Also, approximately 12% and 11.8% are in the \\\\$75,000-99,999 and \\\\$100,000+ brackets respectively. The remaining are distributed among \\\\$1-24,999, \\\\$0, Not employed, and those who did Not display their income level. I find the \\\\$0 confusing so I will investigate further. "
   ]
  },
  {
   "cell_type": "code",
   "execution_count": 21,
   "metadata": {
    "ExecuteTime": {
     "end_time": "2022-07-11T13:19:23.013775Z",
     "start_time": "2022-07-11T13:19:22.566363Z"
    }
   },
   "outputs": [
    {
     "name": "stdout",
     "output_type": "stream",
     "text": [
      "  ProsperScore  Relative Frequency\n",
      "0            8            8.934373\n",
      "1            6            7.008261\n",
      "2            9            6.746032\n",
      "3            7            5.782976\n",
      "4            5            5.516105\n",
      "5            4            4.518240\n",
      "6           10            3.703704\n",
      "7            3            2.673350\n",
      "8            2            2.130326\n",
      "9            1            0.877193\n"
     ]
    },
    {
     "data": {
      "image/png": "[encoded data removed]",
      "text/plain": [
       "<Figure size 576x360 with 1 Axes>"
      ]
     },
     "metadata": {
      "needs_background": "light"
     },
     "output_type": "display_data"
    }
   ],
   "source": [
    "# Distribution of ProsperScore\n",
    "Freq_plot('ProsperScore')"
   ]
  },
  {
   "cell_type": "markdown",
   "metadata": {
    "ExecuteTime": {
     "end_time": "2022-07-04T15:24:51.254347Z",
     "start_time": "2022-07-04T15:24:51.142287Z"
    }
   },
   "source": [
    "We observe that, for clients whose ProsperScores are available, about 8.9% scored 8, 7% scored 6, and 6.7% scored 9. Prosper Score is left-skewed with a large number of clients having high scores. Furthermore, we notice a score of 11. This is unusual since the Prosper Score ranges from 1 to 10. I will remove them from the analysis. "
   ]
  },
  {
   "cell_type": "markdown",
   "metadata": {},
   "source": [
    "#### Quantitative Variables\n",
    "\n",
    "- BorrowerRate \n",
    "- CreditScoreRatingLower\n",
    "- CreditScoreRatingUpper \n",
    "- AmountDelinquent\n",
    "- DebtToIncomeRatio"
   ]
  },
  {
   "cell_type": "code",
   "execution_count": 22,
   "metadata": {
    "ExecuteTime": {
     "end_time": "2022-07-11T13:19:23.439144Z",
     "start_time": "2022-07-11T13:19:23.031776Z"
    },
    "scrolled": true
   },
   "outputs": [
    {
     "data": {
      "text/html": [
       "<div>\n",
       "<style scoped>\n",
       "    .dataframe tbody tr th:only-of-type {\n",
       "        vertical-align: middle;\n",
       "    }\n",
       "\n",
       "    .dataframe tbody tr th {\n",
       "        vertical-align: top;\n",
       "    }\n",
       "\n",
       "    .dataframe thead th {\n",
       "        text-align: right;\n",
       "    }\n",
       "</style>\n",
       "<table border=\"1\" class=\"dataframe\">\n",
       "  <thead>\n",
       "    <tr style=\"text-align: right;\">\n",
       "      <th></th>\n",
       "      <th>BorrowerRate</th>\n",
       "      <th>CreditScoreRangeLower</th>\n",
       "      <th>CreditScoreRangeUpper</th>\n",
       "      <th>AmountDelinquent</th>\n",
       "      <th>DebtToIncomeRatio</th>\n",
       "    </tr>\n",
       "  </thead>\n",
       "  <tbody>\n",
       "    <tr>\n",
       "      <th>count</th>\n",
       "      <td>43092.000000</td>\n",
       "      <td>42550.000000</td>\n",
       "      <td>42550.000000</td>\n",
       "      <td>36832.000000</td>\n",
       "      <td>40103.000000</td>\n",
       "    </tr>\n",
       "    <tr>\n",
       "      <th>mean</th>\n",
       "      <td>0.190691</td>\n",
       "      <td>678.154642</td>\n",
       "      <td>697.154642</td>\n",
       "      <td>923.241475</td>\n",
       "      <td>0.276643</td>\n",
       "    </tr>\n",
       "    <tr>\n",
       "      <th>std</th>\n",
       "      <td>0.080835</td>\n",
       "      <td>81.439016</td>\n",
       "      <td>81.439016</td>\n",
       "      <td>6285.546282</td>\n",
       "      <td>0.681714</td>\n",
       "    </tr>\n",
       "    <tr>\n",
       "      <th>min</th>\n",
       "      <td>0.000000</td>\n",
       "      <td>0.000000</td>\n",
       "      <td>19.000000</td>\n",
       "      <td>0.000000</td>\n",
       "      <td>0.000000</td>\n",
       "    </tr>\n",
       "    <tr>\n",
       "      <th>25%</th>\n",
       "      <td>0.123000</td>\n",
       "      <td>640.000000</td>\n",
       "      <td>659.000000</td>\n",
       "      <td>0.000000</td>\n",
       "      <td>0.120000</td>\n",
       "    </tr>\n",
       "    <tr>\n",
       "      <th>50%</th>\n",
       "      <td>0.180000</td>\n",
       "      <td>680.000000</td>\n",
       "      <td>699.000000</td>\n",
       "      <td>0.000000</td>\n",
       "      <td>0.190000</td>\n",
       "    </tr>\n",
       "    <tr>\n",
       "      <th>75%</th>\n",
       "      <td>0.257600</td>\n",
       "      <td>740.000000</td>\n",
       "      <td>759.000000</td>\n",
       "      <td>0.000000</td>\n",
       "      <td>0.300000</td>\n",
       "    </tr>\n",
       "    <tr>\n",
       "      <th>max</th>\n",
       "      <td>0.497500</td>\n",
       "      <td>880.000000</td>\n",
       "      <td>899.000000</td>\n",
       "      <td>327677.000000</td>\n",
       "      <td>10.010000</td>\n",
       "    </tr>\n",
       "  </tbody>\n",
       "</table>\n",
       "</div>"
      ],
      "text/plain": [
       "       BorrowerRate  CreditScoreRangeLower  CreditScoreRangeUpper  \\\n",
       "count  43092.000000           42550.000000           42550.000000   \n",
       "mean       0.190691             678.154642             697.154642   \n",
       "std        0.080835              81.439016              81.439016   \n",
       "min        0.000000               0.000000              19.000000   \n",
       "25%        0.123000             640.000000             659.000000   \n",
       "50%        0.180000             680.000000             699.000000   \n",
       "75%        0.257600             740.000000             759.000000   \n",
       "max        0.497500             880.000000             899.000000   \n",
       "\n",
       "       AmountDelinquent  DebtToIncomeRatio  \n",
       "count      36832.000000       40103.000000  \n",
       "mean         923.241475           0.276643  \n",
       "std         6285.546282           0.681714  \n",
       "min            0.000000           0.000000  \n",
       "25%            0.000000           0.120000  \n",
       "50%            0.000000           0.190000  \n",
       "75%            0.000000           0.300000  \n",
       "max       327677.000000          10.010000  "
      ]
     },
     "execution_count": 22,
     "metadata": {},
     "output_type": "execute_result"
    }
   ],
   "source": [
    "# summary statistics of the quantitative variables\n",
    "col = [\n",
    "    'BorrowerRate', 'CreditScoreRangeLower', 'CreditScoreRangeUpper',\n",
    "    'AmountDelinquent', 'DebtToIncomeRatio']\n",
    "loans[col].describe()"
   ]
  },
  {
   "cell_type": "code",
   "execution_count": 23,
   "metadata": {
    "ExecuteTime": {
     "end_time": "2022-07-11T13:19:23.486657Z",
     "start_time": "2022-07-11T13:19:23.451148Z"
    }
   },
   "outputs": [],
   "source": [
    "# A function that creates histogram\n",
    "def hist(x, data, bins='auto', xscale_log=False):\n",
    "    '''Create Histograms\n",
    "    Parameters\n",
    "    ----------- \n",
    "    x: str, column\n",
    "    data: dataframe\n",
    "    bins: int, numbers of bins for the histogram\n",
    "    xscale_log: bool, use logarithm scale for x-axis'''\n",
    "\n",
    "    plt.figure(figsize=[8, 5])\n",
    "    if xscale_log == False:\n",
    "        sb.histplot(data=data, x=x, color='black', bins=bins)\n",
    "        plt.title('Distribution of ' + x)\n",
    "    else:\n",
    "        sb.histplot(data=data, x=x, color='black')\n",
    "        plt.title('Distribution of ' + x)\n",
    "        plt.xscale('log')"
   ]
  },
  {
   "cell_type": "markdown",
   "metadata": {},
   "source": [
    "##### Borrower Rate"
   ]
  },
  {
   "cell_type": "code",
   "execution_count": 24,
   "metadata": {
    "ExecuteTime": {
     "end_time": "2022-07-11T13:19:24.254696Z",
     "start_time": "2022-07-11T13:19:23.497657Z"
    }
   },
   "outputs": [
    {
     "data": {
      "image/png": "[encoded data removed]",
      "text/plain": [
       "<Figure size 576x360 with 1 Axes>"
      ]
     },
     "metadata": {
      "needs_background": "light"
     },
     "output_type": "display_data"
    }
   ],
   "source": [
    "# The distribution of BorrowerRate\n",
    "hist('BorrowerRate', data=loans)"
   ]
  },
  {
   "cell_type": "markdown",
   "metadata": {},
   "source": [
    "Borrower Rate appears to be roughly bimodally distributed with peaks over 2,000 corresponding to rates around 15% and 33%. We observe that Borrower Rate mostly falls within 10-25%.  "
   ]
  },
  {
   "cell_type": "markdown",
   "metadata": {
    "ExecuteTime": {
     "end_time": "2022-07-04T16:16:39.639811Z",
     "start_time": "2022-07-04T16:16:39.615810Z"
    }
   },
   "source": [
    "##### Credit Score Range"
   ]
  },
  {
   "cell_type": "code",
   "execution_count": 25,
   "metadata": {
    "ExecuteTime": {
     "end_time": "2022-07-11T13:19:25.184451Z",
     "start_time": "2022-07-11T13:19:24.262695Z"
    }
   },
   "outputs": [
    {
     "data": {
      "image/png": "[encoded data removed]",
      "text/plain": [
       "<Figure size 576x360 with 1 Axes>"
      ]
     },
     "metadata": {
      "needs_background": "light"
     },
     "output_type": "display_data"
    }
   ],
   "source": [
    "# Distribution of CreditScoreRange Lower\n",
    "hist('CreditScoreRangeLower', data=loans)"
   ]
  },
  {
   "cell_type": "code",
   "execution_count": 26,
   "metadata": {
    "ExecuteTime": {
     "end_time": "2022-07-11T13:19:26.242160Z",
     "start_time": "2022-07-11T13:19:25.190449Z"
    }
   },
   "outputs": [
    {
     "data": {
      "image/png": "[encoded data removed]",
      "text/plain": [
       "<Figure size 576x360 with 1 Axes>"
      ]
     },
     "metadata": {
      "needs_background": "light"
     },
     "output_type": "display_data"
    }
   ],
   "source": [
    "# Credit Score Range Upper\n",
    "hist('CreditScoreRangeUpper', data=loans)"
   ]
  },
  {
   "cell_type": "markdown",
   "metadata": {},
   "source": [
    "Notice that the lower and upper range of Credit Score have identical distributions. Both are roughly normally distributed with a large number of observations falling within 600 - 800. Also, in both plots, we can spot outliers having scores less than 50. Since both have the same distribution, I will only use one of them (i.e., CreditScoreRangeLower) in subsequent analysis."
   ]
  },
  {
   "cell_type": "code",
   "execution_count": 27,
   "metadata": {
    "ExecuteTime": {
     "end_time": "2022-07-11T13:19:26.399205Z",
     "start_time": "2022-07-11T13:19:26.252167Z"
    },
    "scrolled": true
   },
   "outputs": [
    {
     "data": {
      "text/html": [
       "<div>\n",
       "<style scoped>\n",
       "    .dataframe tbody tr th:only-of-type {\n",
       "        vertical-align: middle;\n",
       "    }\n",
       "\n",
       "    .dataframe tbody tr th {\n",
       "        vertical-align: top;\n",
       "    }\n",
       "\n",
       "    .dataframe thead th {\n",
       "        text-align: right;\n",
       "    }\n",
       "</style>\n",
       "<table border=\"1\" class=\"dataframe\">\n",
       "  <thead>\n",
       "    <tr style=\"text-align: right;\">\n",
       "      <th></th>\n",
       "      <th>ListingKey</th>\n",
       "      <th>BorrowerRate</th>\n",
       "      <th>ProsperScore</th>\n",
       "      <th>EmploymentStatus</th>\n",
       "      <th>CreditScoreRangeLower</th>\n",
       "      <th>CreditScoreRangeUpper</th>\n",
       "      <th>AmountDelinquent</th>\n",
       "      <th>DebtToIncomeRatio</th>\n",
       "      <th>IncomeRange</th>\n",
       "      <th>LoanStatus</th>\n",
       "      <th>default</th>\n",
       "    </tr>\n",
       "  </thead>\n",
       "  <tbody>\n",
       "    <tr>\n",
       "      <th>250</th>\n",
       "      <td>00EF338150577356881AD6B</td>\n",
       "      <td>0.29</td>\n",
       "      <td>NaN</td>\n",
       "      <td>Not available</td>\n",
       "      <td>0.0</td>\n",
       "      <td>19.0</td>\n",
       "      <td>NaN</td>\n",
       "      <td>NaN</td>\n",
       "      <td>Not displayed</td>\n",
       "      <td>Completed</td>\n",
       "      <td>0</td>\n",
       "    </tr>\n",
       "    <tr>\n",
       "      <th>1891</th>\n",
       "      <td>3A653376194703222361286</td>\n",
       "      <td>0.23</td>\n",
       "      <td>NaN</td>\n",
       "      <td>Not available</td>\n",
       "      <td>0.0</td>\n",
       "      <td>19.0</td>\n",
       "      <td>NaN</td>\n",
       "      <td>0.09</td>\n",
       "      <td>Not displayed</td>\n",
       "      <td>Completed</td>\n",
       "      <td>0</td>\n",
       "    </tr>\n",
       "    <tr>\n",
       "      <th>4557</th>\n",
       "      <td>984433750354102495B4C24</td>\n",
       "      <td>0.17</td>\n",
       "      <td>NaN</td>\n",
       "      <td>Not available</td>\n",
       "      <td>0.0</td>\n",
       "      <td>19.0</td>\n",
       "      <td>NaN</td>\n",
       "      <td>NaN</td>\n",
       "      <td>Not displayed</td>\n",
       "      <td>Completed</td>\n",
       "      <td>0</td>\n",
       "    </tr>\n",
       "    <tr>\n",
       "      <th>6557</th>\n",
       "      <td>4B183368381941574321973</td>\n",
       "      <td>0.29</td>\n",
       "      <td>NaN</td>\n",
       "      <td>Not available</td>\n",
       "      <td>0.0</td>\n",
       "      <td>19.0</td>\n",
       "      <td>NaN</td>\n",
       "      <td>NaN</td>\n",
       "      <td>Not displayed</td>\n",
       "      <td>Completed</td>\n",
       "      <td>0</td>\n",
       "    </tr>\n",
       "    <tr>\n",
       "      <th>6894</th>\n",
       "      <td>16063374551930942E5E2D6</td>\n",
       "      <td>0.29</td>\n",
       "      <td>NaN</td>\n",
       "      <td>Not available</td>\n",
       "      <td>0.0</td>\n",
       "      <td>19.0</td>\n",
       "      <td>NaN</td>\n",
       "      <td>0.07</td>\n",
       "      <td>Not displayed</td>\n",
       "      <td>Completed</td>\n",
       "      <td>0</td>\n",
       "    </tr>\n",
       "    <tr>\n",
       "      <th>...</th>\n",
       "      <td>...</td>\n",
       "      <td>...</td>\n",
       "      <td>...</td>\n",
       "      <td>...</td>\n",
       "      <td>...</td>\n",
       "      <td>...</td>\n",
       "      <td>...</td>\n",
       "      <td>...</td>\n",
       "      <td>...</td>\n",
       "      <td>...</td>\n",
       "      <td>...</td>\n",
       "    </tr>\n",
       "    <tr>\n",
       "      <th>42674</th>\n",
       "      <td>95FF3365358878100898AD8</td>\n",
       "      <td>0.29</td>\n",
       "      <td>NaN</td>\n",
       "      <td>Not available</td>\n",
       "      <td>0.0</td>\n",
       "      <td>19.0</td>\n",
       "      <td>NaN</td>\n",
       "      <td>0.14</td>\n",
       "      <td>Not displayed</td>\n",
       "      <td>Defaulted</td>\n",
       "      <td>1</td>\n",
       "    </tr>\n",
       "    <tr>\n",
       "      <th>42771</th>\n",
       "      <td>C3B33376707487412A1E350</td>\n",
       "      <td>0.29</td>\n",
       "      <td>NaN</td>\n",
       "      <td>Not available</td>\n",
       "      <td>0.0</td>\n",
       "      <td>19.0</td>\n",
       "      <td>NaN</td>\n",
       "      <td>0.04</td>\n",
       "      <td>Not displayed</td>\n",
       "      <td>Defaulted</td>\n",
       "      <td>1</td>\n",
       "    </tr>\n",
       "    <tr>\n",
       "      <th>42871</th>\n",
       "      <td>54DC3365802328009FF20B9</td>\n",
       "      <td>0.24</td>\n",
       "      <td>NaN</td>\n",
       "      <td>Not available</td>\n",
       "      <td>0.0</td>\n",
       "      <td>19.0</td>\n",
       "      <td>NaN</td>\n",
       "      <td>0.04</td>\n",
       "      <td>Not displayed</td>\n",
       "      <td>Defaulted</td>\n",
       "      <td>1</td>\n",
       "    </tr>\n",
       "    <tr>\n",
       "      <th>42884</th>\n",
       "      <td>72E93377660989703675AE5</td>\n",
       "      <td>0.25</td>\n",
       "      <td>NaN</td>\n",
       "      <td>Not available</td>\n",
       "      <td>0.0</td>\n",
       "      <td>19.0</td>\n",
       "      <td>NaN</td>\n",
       "      <td>NaN</td>\n",
       "      <td>Not displayed</td>\n",
       "      <td>Defaulted</td>\n",
       "      <td>1</td>\n",
       "    </tr>\n",
       "    <tr>\n",
       "      <th>42999</th>\n",
       "      <td>B4F6337744905877323E37A</td>\n",
       "      <td>0.29</td>\n",
       "      <td>NaN</td>\n",
       "      <td>Not available</td>\n",
       "      <td>0.0</td>\n",
       "      <td>19.0</td>\n",
       "      <td>NaN</td>\n",
       "      <td>NaN</td>\n",
       "      <td>Not displayed</td>\n",
       "      <td>Defaulted</td>\n",
       "      <td>1</td>\n",
       "    </tr>\n",
       "  </tbody>\n",
       "</table>\n",
       "<p>98 rows × 11 columns</p>\n",
       "</div>"
      ],
      "text/plain": [
       "                    ListingKey  BorrowerRate ProsperScore EmploymentStatus  \\\n",
       "250    00EF338150577356881AD6B          0.29          NaN    Not available   \n",
       "1891   3A653376194703222361286          0.23          NaN    Not available   \n",
       "4557   984433750354102495B4C24          0.17          NaN    Not available   \n",
       "6557   4B183368381941574321973          0.29          NaN    Not available   \n",
       "6894   16063374551930942E5E2D6          0.29          NaN    Not available   \n",
       "...                        ...           ...          ...              ...   \n",
       "42674  95FF3365358878100898AD8          0.29          NaN    Not available   \n",
       "42771  C3B33376707487412A1E350          0.29          NaN    Not available   \n",
       "42871  54DC3365802328009FF20B9          0.24          NaN    Not available   \n",
       "42884  72E93377660989703675AE5          0.25          NaN    Not available   \n",
       "42999  B4F6337744905877323E37A          0.29          NaN    Not available   \n",
       "\n",
       "       CreditScoreRangeLower  CreditScoreRangeUpper  AmountDelinquent  \\\n",
       "250                      0.0                   19.0               NaN   \n",
       "1891                     0.0                   19.0               NaN   \n",
       "4557                     0.0                   19.0               NaN   \n",
       "6557                     0.0                   19.0               NaN   \n",
       "6894                     0.0                   19.0               NaN   \n",
       "...                      ...                    ...               ...   \n",
       "42674                    0.0                   19.0               NaN   \n",
       "42771                    0.0                   19.0               NaN   \n",
       "42871                    0.0                   19.0               NaN   \n",
       "42884                    0.0                   19.0               NaN   \n",
       "42999                    0.0                   19.0               NaN   \n",
       "\n",
       "       DebtToIncomeRatio    IncomeRange LoanStatus  default  \n",
       "250                  NaN  Not displayed  Completed        0  \n",
       "1891                0.09  Not displayed  Completed        0  \n",
       "4557                 NaN  Not displayed  Completed        0  \n",
       "6557                 NaN  Not displayed  Completed        0  \n",
       "6894                0.07  Not displayed  Completed        0  \n",
       "...                  ...            ...        ...      ...  \n",
       "42674               0.14  Not displayed  Defaulted        1  \n",
       "42771               0.04  Not displayed  Defaulted        1  \n",
       "42871               0.04  Not displayed  Defaulted        1  \n",
       "42884                NaN  Not displayed  Defaulted        1  \n",
       "42999                NaN  Not displayed  Defaulted        1  \n",
       "\n",
       "[98 rows x 11 columns]"
      ]
     },
     "execution_count": 27,
     "metadata": {},
     "output_type": "execute_result"
    }
   ],
   "source": [
    "# Investigate outliers in CreditScoreRangeLower\n",
    "loans.query('CreditScoreRangeLower < 50')"
   ]
  },
  {
   "cell_type": "code",
   "execution_count": 28,
   "metadata": {
    "ExecuteTime": {
     "end_time": "2022-07-11T13:19:27.376428Z",
     "start_time": "2022-07-11T13:19:26.419206Z"
    }
   },
   "outputs": [
    {
     "name": "stdout",
     "output_type": "stream",
     "text": [
      "count    42550.0\n",
      "mean        19.0\n",
      "std          0.0\n",
      "min         19.0\n",
      "25%         19.0\n",
      "50%         19.0\n",
      "75%         19.0\n",
      "max         19.0\n",
      "dtype: float64\n"
     ]
    },
    {
     "data": {
      "text/plain": [
       "Text(0.5, 0, 'Credit Score Range')"
      ]
     },
     "execution_count": 28,
     "metadata": {},
     "output_type": "execute_result"
    },
    {
     "data": {
      "image/png": "[encoded data removed]",
      "text/plain": [
       "<Figure size 432x288 with 1 Axes>"
      ]
     },
     "metadata": {
      "needs_background": "light"
     },
     "output_type": "display_data"
    }
   ],
   "source": [
    "# find the Credit Score Range\n",
    "CreditScoreRange = loans.CreditScoreRangeUpper - loans.CreditScoreRangeLower\n",
    "print(CreditScoreRange.describe())\n",
    "plt.hist(CreditScoreRange, bins=40, color='black')\n",
    "plt.title('Distribution of Credit Score Range')\n",
    "plt.xlabel('Credit Score Range')"
   ]
  },
  {
   "cell_type": "markdown",
   "metadata": {},
   "source": [
    "The above graph reveals that, for all the clients, the Credit Score Upper bound is greater than the lower bound by 19. This explains why they both have identical distributions. Also, these values (i.e., the outliers) are the minimums of the upper and lower bounds. I will drop those rows. "
   ]
  },
  {
   "cell_type": "code",
   "execution_count": 29,
   "metadata": {
    "ExecuteTime": {
     "end_time": "2022-07-11T13:19:27.413429Z",
     "start_time": "2022-07-11T13:19:27.380428Z"
    }
   },
   "outputs": [],
   "source": [
    "# drop outliers\n",
    "loans = loans[loans.CreditScoreRangeLower > 50]"
   ]
  },
  {
   "cell_type": "code",
   "execution_count": 30,
   "metadata": {
    "ExecuteTime": {
     "end_time": "2022-07-11T13:19:28.356176Z",
     "start_time": "2022-07-11T13:19:27.428427Z"
    }
   },
   "outputs": [
    {
     "data": {
      "image/png": "[encoded data removed]",
      "text/plain": [
       "<Figure size 576x360 with 1 Axes>"
      ]
     },
     "metadata": {
      "needs_background": "light"
     },
     "output_type": "display_data"
    }
   ],
   "source": [
    "hist('CreditScoreRangeLower', data=loans)"
   ]
  },
  {
   "cell_type": "markdown",
   "metadata": {
    "ExecuteTime": {
     "end_time": "2022-07-04T19:18:17.876194Z",
     "start_time": "2022-07-04T19:18:17.873193Z"
    }
   },
   "source": [
    "##### Amount Delinquent"
   ]
  },
  {
   "cell_type": "code",
   "execution_count": 31,
   "metadata": {
    "ExecuteTime": {
     "end_time": "2022-07-11T13:19:29.510999Z",
     "start_time": "2022-07-11T13:19:28.366688Z"
    }
   },
   "outputs": [
    {
     "data": {
      "image/png": "[encoded data removed]",
      "text/plain": [
       "<Figure size 576x360 with 1 Axes>"
      ]
     },
     "metadata": {
      "needs_background": "light"
     },
     "output_type": "display_data"
    }
   ],
   "source": [
    "# The Distribution of Amount Delinquent\n",
    "hist('AmountDelinquent', data=loans, bins=100)"
   ]
  },
  {
   "cell_type": "markdown",
   "metadata": {},
   "source": [
    "Seems most of the values fall around zero. I will investigate it further. "
   ]
  },
  {
   "cell_type": "code",
   "execution_count": 32,
   "metadata": {
    "ExecuteTime": {
     "end_time": "2022-07-11T13:19:30.274181Z",
     "start_time": "2022-07-11T13:19:29.531000Z"
    }
   },
   "outputs": [
    {
     "name": "stdout",
     "output_type": "stream",
     "text": [
      "   AmountDelinquent  Relative Frequency\n",
      "0               0.0           99.902337\n",
      "1               2.0            0.019533\n",
      "2               5.0            0.019533\n",
      "3               3.0            0.009766\n",
      "4               6.0            0.009766\n",
      "5               8.0            0.009766\n",
      "6               9.0            0.009766\n",
      "7               1.0            0.006511\n",
      "8               4.0            0.006511\n",
      "9               7.0            0.006511\n"
     ]
    },
    {
     "data": {
      "image/png": "[encoded data removed]",
      "text/plain": [
       "<Figure size 576x360 with 1 Axes>"
      ]
     },
     "metadata": {
      "needs_background": "light"
     },
     "output_type": "display_data"
    }
   ],
   "source": [
    "# Investigate the frequeny of the value between 0 - 10\n",
    "Freq_plot('AmountDelinquent', data=loans[loans.AmountDelinquent < 10])"
   ]
  },
  {
   "cell_type": "markdown",
   "metadata": {},
   "source": [
    "The Amount Delinquent variable is highly skewed. Even after log transformation, the variable is still highly skewed. By increasing the bins to 100, we discover that a large amount (99.9%) of the observations are zeros. \n",
    "As result, I will exclude this variable from further analysis. "
   ]
  },
  {
   "cell_type": "markdown",
   "metadata": {
    "ExecuteTime": {
     "end_time": "2022-07-06T13:23:29.043378Z",
     "start_time": "2022-07-06T13:22:33.510831Z"
    }
   },
   "source": [
    "##### Debt To Income Ratio"
   ]
  },
  {
   "cell_type": "code",
   "execution_count": 33,
   "metadata": {
    "ExecuteTime": {
     "end_time": "2022-07-11T13:19:34.630522Z",
     "start_time": "2022-07-11T13:19:30.291186Z"
    }
   },
   "outputs": [
    {
     "data": {
      "image/png": "[encoded data removed]",
      "text/plain": [
       "<Figure size 576x360 with 1 Axes>"
      ]
     },
     "metadata": {
      "needs_background": "light"
     },
     "output_type": "display_data"
    }
   ],
   "source": [
    "# Distribution of Debt To Income Ratio\n",
    "hist('DebtToIncomeRatio', data=loans)"
   ]
  },
  {
   "cell_type": "markdown",
   "metadata": {},
   "source": [
    "Debt to income ratio is right-skewed with a large number of clients falling within the 0-100% interval. We observe values greater than 1 indicating clients with Debt to income ratios greater than 100%. Notice there are client values over 10. According to the company, these are clients with extremely high debt to income ratios i.e., over 1000%! Let's investigate the value further. "
   ]
  },
  {
   "cell_type": "code",
   "execution_count": 34,
   "metadata": {
    "ExecuteTime": {
     "end_time": "2022-07-11T13:19:38.791384Z",
     "start_time": "2022-07-11T13:19:34.638520Z"
    }
   },
   "outputs": [
    {
     "data": {
      "text/plain": [
       "(0.0, 1.0)"
      ]
     },
     "execution_count": 34,
     "metadata": {},
     "output_type": "execute_result"
    },
    {
     "data": {
      "image/png": "[encoded data removed]",
      "text/plain": [
       "<Figure size 576x360 with 1 Axes>"
      ]
     },
     "metadata": {
      "needs_background": "light"
     },
     "output_type": "display_data"
    }
   ],
   "source": [
    "# Distribution of Debt To Income Ratio between 0 - 100%\n",
    "hist('DebtToIncomeRatio', data=loans)\n",
    "plt.xlim(0, 1);"
   ]
  },
  {
   "cell_type": "markdown",
   "metadata": {},
   "source": [
    "By limiting the x-axis to values between 0 - 100%, we observe that majority of clients fall within the 10% - 30% debt to income ratio bracket. Moving on, I will convert the variable into categorical (ordinal) to enhance the subsequent analysis. "
   ]
  },
  {
   "cell_type": "code",
   "execution_count": 35,
   "metadata": {
    "ExecuteTime": {
     "end_time": "2022-07-11T13:19:38.826383Z",
     "start_time": "2022-07-11T13:19:38.797383Z"
    },
    "code_folding": []
   },
   "outputs": [],
   "source": [
    "# Convert DebtToincomeRatio into ordinal variable\n",
    "ordinal_debt_ratio = pd.cut(loans.DebtToIncomeRatio,\n",
    "                            bins=[0, 0.13, 0.2, 0.3, 1, 10, 10.2],\n",
    "                            labels=[\n",
    "                                '0 to 13%', '13+ to 20%', '20+ to 30%',\n",
    "                                '30+ to 100%', '100+ to 1000%', '1000% plus'\n",
    "                            ],\n",
    "                            ordered=True)\n",
    "# Add to the loans Dataframe\n",
    "loans['debt_ratio'] = ordinal_debt_ratio"
   ]
  },
  {
   "cell_type": "code",
   "execution_count": 36,
   "metadata": {
    "ExecuteTime": {
     "end_time": "2022-07-11T13:19:39.297014Z",
     "start_time": "2022-07-11T13:19:38.834382Z"
    },
    "code_folding": []
   },
   "outputs": [
    {
     "name": "stdout",
     "output_type": "stream",
     "text": [
      "      debt_ratio  Relative Frequency\n",
      "0       0 to 13%           26.187223\n",
      "1     13+ to 20%           23.058984\n",
      "2     20+ to 30%           21.805804\n",
      "3    30+ to 100%           20.938943\n",
      "4  100+ to 1000%            0.661924\n",
      "5     1000% plus            0.391030\n"
     ]
    },
    {
     "data": {
      "image/png": "[encoded data removed]",
      "text/plain": [
       "<Figure size 576x360 with 1 Axes>"
      ]
     },
     "metadata": {
      "needs_background": "light"
     },
     "output_type": "display_data"
    }
   ],
   "source": [
    "# Plot the new debt ratio using relative Frequency\n",
    "Freq_plot('debt_ratio', loans)"
   ]
  },
  {
   "cell_type": "markdown",
   "metadata": {},
   "source": [
    "In our new debt to income ratio variable, about 26% of clients have a debt ratio between 0 - 13%, 23% are between 13 and 20%, and 41% fall within 20 to 100%. In addition, 6.6% fall beyond 100% but less than 1000%, and some 4% fall beyond 1000%."
   ]
  },
  {
   "cell_type": "code",
   "execution_count": 37,
   "metadata": {
    "ExecuteTime": {
     "end_time": "2022-07-11T13:19:39.415535Z",
     "start_time": "2022-07-11T13:19:39.305013Z"
    }
   },
   "outputs": [
    {
     "name": "stdout",
     "output_type": "stream",
     "text": [
      "<class 'pandas.core.frame.DataFrame'>\n",
      "Int64Index: 42452 entries, 0 to 43091\n",
      "Data columns (total 12 columns):\n",
      " #   Column                 Non-Null Count  Dtype   \n",
      "---  ------                 --------------  -----   \n",
      " 0   ListingKey             42452 non-null  object  \n",
      " 1   BorrowerRate           42452 non-null  float64 \n",
      " 2   ProsperScore           20637 non-null  category\n",
      " 3   EmploymentStatus       41057 non-null  object  \n",
      " 4   CreditScoreRangeLower  42452 non-null  float64 \n",
      " 5   CreditScoreRangeUpper  42452 non-null  float64 \n",
      " 6   AmountDelinquent       36832 non-null  float64 \n",
      " 7   DebtToIncomeRatio      39513 non-null  float64 \n",
      " 8   IncomeRange            42031 non-null  category\n",
      " 9   LoanStatus             42452 non-null  object  \n",
      " 10  default                42452 non-null  int64   \n",
      " 11  debt_ratio             39499 non-null  category\n",
      "dtypes: category(3), float64(5), int64(1), object(3)\n",
      "memory usage: 3.4+ MB\n"
     ]
    }
   ],
   "source": [
    "loans.info()"
   ]
  },
  {
   "cell_type": "markdown",
   "metadata": {},
   "source": [
    "### Discuss the distribution(s) of your variable(s) of interest. Were there any unusual points? Did you need to perform any transformations?\n",
    "\n",
    "The number of loans that have been completed dominates that data with over 35000 loans completed corresponding to more than 85% of the loans. I created a new binary variable for Loan Status which takes a value of 1 for Defaulted and O for completed.\n",
    "\n",
    "### Of the features you investigated, were there any unusual distributions? Did you perform any operations on the data to tidy, adjust, or change the form of the data? If so, why did you do this?\n",
    "\n",
    "I converted Prosper Score and Income Range into ordinal variables because their orderings matter to the analysis. I removed values less than 50 from the Credit Score Range variable to get rid of outliers. Furthermore, I will convert the Debt to Income Ratio variable into ordinal to avoid data loss and enhance the analysis."
   ]
  },
  {
   "cell_type": "code",
   "execution_count": 38,
   "metadata": {
    "ExecuteTime": {
     "end_time": "2022-07-11T13:19:40.298828Z",
     "start_time": "2022-07-11T13:19:39.419536Z"
    }
   },
   "outputs": [],
   "source": [
    "# Save the loans data set.\n",
    "loans.to_csv('clean_loans.csv', index=False)"
   ]
  },
  {
   "cell_type": "markdown",
   "metadata": {},
   "source": [
    "## Bivariate Exploration\n",
    "\n",
    "In this section, I investigate the relationships between pairs of the variables explored under the univariate section. \n",
    "In particular, I will explore the relationship between Loan Status and the following:\n",
    "- Employment Status\n",
    "- Income Range\n",
    "- Prosper Score\n",
    "- Debt Ratio \n",
    "- Borrower Rate\n",
    "- Credit Score Range Lower\n",
    "\n",
    "Also, I suspect a relationship between:\n",
    "- Employment Status and Income \n",
    "- Income and Debt Ratio\n",
    "- Income and Credit Score"
   ]
  },
  {
   "cell_type": "markdown",
   "metadata": {},
   "source": [
    "### Loan Status and Employment Status\n",
    "\n",
    "##### Does loan default rate differ among employment status?"
   ]
  },
  {
   "cell_type": "markdown",
   "metadata": {
    "ExecuteTime": {
     "end_time": "2022-07-06T15:16:47.025926Z",
     "start_time": "2022-07-06T15:16:47.018928Z"
    }
   },
   "source": [
    "##### Visualization "
   ]
  },
  {
   "cell_type": "code",
   "execution_count": 39,
   "metadata": {
    "ExecuteTime": {
     "end_time": "2022-07-11T13:19:40.821336Z",
     "start_time": "2022-07-11T13:19:40.302858Z"
    },
    "code_folding": []
   },
   "outputs": [
    {
     "name": "stdout",
     "output_type": "stream",
     "text": [
      "  EmploymentStatus  Default Rate\n",
      "0    Not available     27.596862\n",
      "1    Self-employed     12.124199\n",
      "2        Full-time     11.303151\n",
      "3          Retired     11.218569\n",
      "4            Other     10.735586\n",
      "5     Not employed      7.277628\n",
      "6        Part-time      7.025761\n",
      "7         Employed      4.860361\n"
     ]
    },
    {
     "data": {
      "image/png": "[encoded data removed]",
      "text/plain": [
       "<Figure size 720x432 with 1 Axes>"
      ]
     },
     "metadata": {
      "needs_background": "light"
     },
     "output_type": "display_data"
    }
   ],
   "source": [
    "# Barplot of Default and Employment status\n",
    "default_employ_status = loans.groupby(\n",
    "    'EmploymentStatus')['default'].mean().sort_values(ascending=False) * 100\n",
    "default_employ_status = default_employ_status.reset_index(name='Default Rate')\n",
    "\n",
    "plt.figure(figsize=[10, 6])\n",
    "sb.barplot(data=default_employ_status,\n",
    "           y='EmploymentStatus',\n",
    "           x='Default Rate',\n",
    "           color='black')\n",
    "plt.title('Default Rate across Employment Status')\n",
    "plt.xlabel('Default Rate (%)')\n",
    "\n",
    "print(default_employ_status)"
   ]
  },
  {
   "cell_type": "markdown",
   "metadata": {},
   "source": [
    "##### Observation"
   ]
  },
  {
   "cell_type": "markdown",
   "metadata": {},
   "source": [
    "Clients whose employment status is not available had the highest default rate (27.6%). Self-employed and those with Full-time jobs place second and third with default rates of 12.1% and 11.3% respectively. On the far end, we have those who are \"Employed\" having the least default rate of about 4.9%."
   ]
  },
  {
   "cell_type": "markdown",
   "metadata": {
    "ExecuteTime": {
     "end_time": "2022-07-06T16:21:44.527878Z",
     "start_time": "2022-07-06T16:21:44.516879Z"
    }
   },
   "source": [
    "### Loan Status and Income Range\n",
    "\n",
    "##### Does loan default rates vary across income levels? "
   ]
  },
  {
   "cell_type": "markdown",
   "metadata": {},
   "source": [
    "##### Visualization"
   ]
  },
  {
   "cell_type": "code",
   "execution_count": 40,
   "metadata": {
    "ExecuteTime": {
     "end_time": "2022-07-11T13:19:40.852334Z",
     "start_time": "2022-07-11T13:19:40.829335Z"
    },
    "code_folding": []
   },
   "outputs": [],
   "source": [
    "# A function for create Clustered bar and barplot\n",
    "def Cluster_Barplot(x, y, xticks_rotation=20, barplot=True):\n",
    "    # Plot a clustered barplot\n",
    "    plt.figure(figsize=[20, 6])\n",
    "    plt.suptitle('Relationship between ' + x + ' and ' + y)\n",
    "    # Countplot of x and y\n",
    "    plt.subplot(1, 2, 1)\n",
    "    sb.countplot(data=loans, x=x, hue=y)\n",
    "    plt.xticks(rotation=xticks_rotation)\n",
    "\n",
    "    # Barplot of x againt y\n",
    "    if barplot == True:\n",
    "        plt.subplot(1, 2, 2)\n",
    "        sb.barplot(data=loans, x=x, y=y, color='black', ci=None)\n",
    "        plt.xticks(rotation=xticks_rotation)\n",
    "    else:\n",
    "        pass"
   ]
  },
  {
   "cell_type": "code",
   "execution_count": 41,
   "metadata": {
    "ExecuteTime": {
     "end_time": "2022-07-11T13:19:41.986298Z",
     "start_time": "2022-07-11T13:19:40.857335Z"
    }
   },
   "outputs": [
    {
     "data": {
      "image/png": "[encoded data removed]",
      "text/plain": [
       "<Figure size 1440x432 with 2 Axes>"
      ]
     },
     "metadata": {
      "needs_background": "light"
     },
     "output_type": "display_data"
    }
   ],
   "source": [
    "Cluster_Barplot(x='IncomeRange', y='default')"
   ]
  },
  {
   "cell_type": "markdown",
   "metadata": {},
   "source": [
    "##### Observation"
   ]
  },
  {
   "cell_type": "markdown",
   "metadata": {},
   "source": [
    "The plot on the left shows that the distribution of clients who have completed their loans and those that defaulted are similar. However, we notice that clients whose income level is not displayed have the highest default counts compared to the other categories. The plot on the right confirms that clients whose income levels are not displayed have the highest default rate i.e., about 27%. Those with \\\\$0 income have a default rate of 12.1%, followed by those in \\\\$25,000-49,999 and \\\\$1-24,999 brackets with default rates of 10.5% and 10.3% respectively. Those in the highest income bracket i.e., \\\\$100,000+ has the least default rate. \n",
    "**Generally, we observe that the default rate decreases with income. That is, higher income levels correspond to lower default rates.**"
   ]
  },
  {
   "cell_type": "markdown",
   "metadata": {},
   "source": [
    "### Loan Status and Prosper Score\n",
    "\n",
    "##### What is the relationship between default rates and ProsperScore?"
   ]
  },
  {
   "cell_type": "markdown",
   "metadata": {},
   "source": [
    "##### Visualization"
   ]
  },
  {
   "cell_type": "code",
   "execution_count": 42,
   "metadata": {
    "ExecuteTime": {
     "end_time": "2022-07-11T13:19:42.935700Z",
     "start_time": "2022-07-11T13:19:41.986298Z"
    }
   },
   "outputs": [
    {
     "data": {
      "image/png": "[encoded data removed]",
      "text/plain": [
       "<Figure size 1440x432 with 2 Axes>"
      ]
     },
     "metadata": {
      "needs_background": "light"
     },
     "output_type": "display_data"
    }
   ],
   "source": [
    "Cluster_Barplot(x='ProsperScore', y='default', xticks_rotation=0)"
   ]
  },
  {
   "cell_type": "markdown",
   "metadata": {},
   "source": [
    "##### Observation"
   ]
  },
  {
   "cell_type": "markdown",
   "metadata": {
    "ExecuteTime": {
     "end_time": "2022-07-06T18:33:40.881665Z",
     "start_time": "2022-07-06T18:33:40.834260Z"
    }
   },
   "source": [
    "On the second graph, we observe that aside from Score 5, there is an overall inverse relationship between default rate and Prosper Score for scores from 1 to 10. That is high Prosper Scores correspond to lower levels of default rate. "
   ]
  },
  {
   "cell_type": "markdown",
   "metadata": {},
   "source": [
    "### Loan Status and Debt to Income Ratio\n",
    "\n",
    "##### What is the relationship between default rates and debt ratio?"
   ]
  },
  {
   "cell_type": "markdown",
   "metadata": {},
   "source": [
    "##### Visualization"
   ]
  },
  {
   "cell_type": "code",
   "execution_count": 43,
   "metadata": {
    "ExecuteTime": {
     "end_time": "2022-07-11T13:19:43.780357Z",
     "start_time": "2022-07-11T13:19:42.942701Z"
    },
    "code_folding": []
   },
   "outputs": [
    {
     "data": {
      "image/png": "[encoded data removed]",
      "text/plain": [
       "<Figure size 1440x432 with 2 Axes>"
      ]
     },
     "metadata": {
      "needs_background": "light"
     },
     "output_type": "display_data"
    }
   ],
   "source": [
    "# Create a Clustered bar and barplot\n",
    "Cluster_Barplot(x='debt_ratio', y='default')"
   ]
  },
  {
   "cell_type": "markdown",
   "metadata": {},
   "source": [
    "##### Observation"
   ]
  },
  {
   "cell_type": "markdown",
   "metadata": {},
   "source": [
    "From the Clustered bar graph (first graph), we notice that the frequency of loans completed declines as we to higher levels of debt ratio. On that same graph, observe that the frequency of loans defaulted increases at higher levels of the debt ratio, although not so clear. The second graph provides a better picture of this relationship. We clearly see that loan default rate increases and the debt ratio increases. This makes sense since an individual who is already overburdened with debt will be unable to repay the loan. "
   ]
  },
  {
   "cell_type": "markdown",
   "metadata": {},
   "source": [
    "### Loan Status and Borrower Rate\n",
    "\n",
    "##### What is the relationship between default rates and borrower rate?"
   ]
  },
  {
   "cell_type": "markdown",
   "metadata": {},
   "source": [
    "##### Visualization"
   ]
  },
  {
   "cell_type": "code",
   "execution_count": 44,
   "metadata": {
    "ExecuteTime": {
     "end_time": "2022-07-11T13:19:45.550432Z",
     "start_time": "2022-07-11T13:19:43.791355Z"
    },
    "code_folding": []
   },
   "outputs": [
    {
     "data": {
      "text/plain": [
       "Text(0.5, 1.0, 'Relationship between Loan Status and Borrower Rate')"
      ]
     },
     "execution_count": 44,
     "metadata": {},
     "output_type": "execute_result"
    },
    {
     "data": {
      "image/png": "[encoded data removed]",
      "text/plain": [
       "<Figure size 576x360 with 1 Axes>"
      ]
     },
     "metadata": {
      "needs_background": "light"
     },
     "output_type": "display_data"
    }
   ],
   "source": [
    "# Relationship between default rates and borrower rate\n",
    "plt.figure(figsize=[8, 5])\n",
    "sb.violinplot(data=loans, x='LoanStatus', y='BorrowerRate', color='orange')\n",
    "plt.title('Relationship between Loan Status and Borrower Rate');"
   ]
  },
  {
   "cell_type": "markdown",
   "metadata": {},
   "source": [
    "##### Observation"
   ]
  },
  {
   "cell_type": "markdown",
   "metadata": {},
   "source": [
    "I use a violin plot to display the relationship between Loan status and Borrower Rate. We observe that Borrower Rate among those who defaulted is higher compared to those who completed the loan. Also, while the Borrower Rate for a majority of those who completed the loan is below 20%, a large of those who defaulted have Borrower Rates above 20%. This suggests that a high Borrower rate is associated with a high default rate."
   ]
  },
  {
   "cell_type": "markdown",
   "metadata": {},
   "source": [
    "### Loan Status and Credit Score Range Lower\n",
    "\n",
    "##### What is the relationship between default rates and credit score?"
   ]
  },
  {
   "cell_type": "markdown",
   "metadata": {},
   "source": [
    "##### Visualization"
   ]
  },
  {
   "cell_type": "code",
   "execution_count": 45,
   "metadata": {
    "ExecuteTime": {
     "end_time": "2022-07-11T13:19:46.075207Z",
     "start_time": "2022-07-11T13:19:45.554432Z"
    },
    "code_folding": []
   },
   "outputs": [
    {
     "data": {
      "text/plain": [
       "Text(0.5, 1.0, 'Relationship between Loan Status and Credit Score')"
      ]
     },
     "execution_count": 45,
     "metadata": {},
     "output_type": "execute_result"
    },
    {
     "data": {
      "image/png": "[encoded data removed]",
      "text/plain": [
       "<Figure size 648x360 with 1 Axes>"
      ]
     },
     "metadata": {
      "needs_background": "light"
     },
     "output_type": "display_data"
    }
   ],
   "source": [
    "# Boxplot of Loan Status against Credit Score Range Lower\n",
    "plt.figure(figsize=[9, 5])\n",
    "sb.boxplot(data=loans,\n",
    "           x='LoanStatus',\n",
    "           y='CreditScoreRangeLower',\n",
    "           color='orange')\n",
    "plt.title('Relationship between Loan Status and Credit Score');"
   ]
  },
  {
   "cell_type": "markdown",
   "metadata": {},
   "source": [
    "##### Observation"
   ]
  },
  {
   "cell_type": "markdown",
   "metadata": {},
   "source": [
    "Credit Score is higher among those who completed their loans compared to those who defaulted. "
   ]
  },
  {
   "cell_type": "markdown",
   "metadata": {
    "ExecuteTime": {
     "end_time": "2022-07-06T23:19:27.385410Z",
     "start_time": "2022-07-06T23:19:27.340380Z"
    }
   },
   "source": [
    "### Employment Status and Borrower Rate\n",
    "\n",
    "##### What is the relationship between employment status and borrower rate?"
   ]
  },
  {
   "cell_type": "markdown",
   "metadata": {},
   "source": [
    "##### Visualization"
   ]
  },
  {
   "cell_type": "code",
   "execution_count": 46,
   "metadata": {
    "ExecuteTime": {
     "end_time": "2022-07-11T13:19:46.579288Z",
     "start_time": "2022-07-11T13:19:46.083727Z"
    }
   },
   "outputs": [
    {
     "name": "stdout",
     "output_type": "stream",
     "text": [
      "  EmploymentStatus  Borrower Rate\n",
      "0            Other      24.470477\n",
      "1     Not employed      21.919784\n",
      "2         Employed      21.208170\n",
      "3    Self-employed      20.336018\n",
      "4    Not available      18.437266\n",
      "5          Retired      18.007969\n",
      "6        Full-time      17.647007\n",
      "7        Part-time      17.447518\n"
     ]
    },
    {
     "data": {
      "text/plain": [
       "Text(0.5, 0, '')"
      ]
     },
     "execution_count": 46,
     "metadata": {},
     "output_type": "execute_result"
    },
    {
     "data": {
      "image/png": "[encoded data removed]",
      "text/plain": [
       "<Figure size 720x360 with 1 Axes>"
      ]
     },
     "metadata": {
      "needs_background": "light"
     },
     "output_type": "display_data"
    }
   ],
   "source": [
    "# Visualize the relationship between employment status and borrower rate\n",
    "employ_borrower_rate = loans.groupby('EmploymentStatus')['BorrowerRate'].mean(\n",
    ").sort_values(ascending=False) * 100\n",
    "employ_borrower_rate = employ_borrower_rate.reset_index(name='Borrower Rate')\n",
    "print(employ_borrower_rate)\n",
    "\n",
    "# Plot the relationship between employment status and borrower rate\n",
    "plt.figure(figsize=[10, 5])\n",
    "sb.barplot(data=employ_borrower_rate,\n",
    "           x='EmploymentStatus',\n",
    "           y='Borrower Rate',\n",
    "           color='black')\n",
    "plt.title('Relationship between Employment Status and Borrower Rate')\n",
    "plt.xticks(rotation=15)\n",
    "plt.ylabel('Average Borrower Rate (%)')\n",
    "plt.xlabel('');"
   ]
  },
  {
   "cell_type": "markdown",
   "metadata": {
    "code_folding": []
   },
   "source": [
    "##### Observation"
   ]
  },
  {
   "cell_type": "markdown",
   "metadata": {},
   "source": [
    "Borrower rate differs marginally across employment groups with \"Others\" having the highest and \"Part-time\" having the least. "
   ]
  },
  {
   "cell_type": "markdown",
   "metadata": {},
   "source": [
    "### Income and Debt Ratio\n",
    "\n",
    "##### What is the relationship between income and debt ratio"
   ]
  },
  {
   "cell_type": "markdown",
   "metadata": {},
   "source": [
    "###### Visualization"
   ]
  },
  {
   "cell_type": "code",
   "execution_count": 47,
   "metadata": {
    "ExecuteTime": {
     "end_time": "2022-07-11T13:19:47.341902Z",
     "start_time": "2022-07-11T13:19:46.585293Z"
    }
   },
   "outputs": [
    {
     "name": "stdout",
     "output_type": "stream",
     "text": [
      "      IncomeRange  Debt Ratio\n",
      "0    Not employed        27.0\n",
      "1       $1-24,999        30.0\n",
      "2  $25,000-49,999        23.0\n",
      "3  $50,000-74,999        20.0\n",
      "4  $75,000-99,999        18.0\n",
      "5       $100,000+        15.0\n",
      "6   Not displayed        17.0\n"
     ]
    },
    {
     "data": {
      "text/plain": [
       "Text(0.5, 0, '')"
      ]
     },
     "execution_count": 47,
     "metadata": {},
     "output_type": "execute_result"
    },
    {
     "data": {
      "image/png": "[encoded data removed]",
      "text/plain": [
       "<Figure size 720x360 with 1 Axes>"
      ]
     },
     "metadata": {
      "needs_background": "light"
     },
     "output_type": "display_data"
    }
   ],
   "source": [
    "# Visualize the relationship between income and debt ratio]\n",
    "income_debt = loans.groupby('IncomeRange')['DebtToIncomeRatio'].median() * 100\n",
    "income_debt = income_debt.reset_index(name='Debt Ratio')\n",
    "print(income_debt)\n",
    "\n",
    "# Plot the relationship between income and debt\n",
    "plt.figure(figsize=[10, 5])\n",
    "sb.barplot(data=income_debt, x='IncomeRange', y='Debt Ratio', color='black')\n",
    "plt.title('Relationship between Income and Debt Ratio')\n",
    "plt.xticks(rotation=15)\n",
    "plt.ylabel('Median Debt Ratio (%)')\n",
    "plt.xlabel('');"
   ]
  },
  {
   "cell_type": "markdown",
   "metadata": {},
   "source": [
    "##### Observation"
   ]
  },
  {
   "cell_type": "markdown",
   "metadata": {},
   "source": [
    "By comparing the median debt ratio across income groups, we observe that the debt ratio decreases with income level. That is, clients with higher income levels have lower debt-to-income ratios. I suspect that this may have an interactive effect on Loan Status. Note that, I used the median debt ratio because of the presence of outliers."
   ]
  },
  {
   "cell_type": "markdown",
   "metadata": {
    "ExecuteTime": {
     "end_time": "2022-07-08T09:00:42.894044Z",
     "start_time": "2022-07-08T09:00:42.887033Z"
    }
   },
   "source": [
    "### Income and Credit Score\n",
    "\n",
    "##### What is the relationship between Income and Credit Score?"
   ]
  },
  {
   "cell_type": "markdown",
   "metadata": {},
   "source": [
    "##### Visualization"
   ]
  },
  {
   "cell_type": "code",
   "execution_count": 48,
   "metadata": {
    "ExecuteTime": {
     "end_time": "2022-07-11T13:19:47.765983Z",
     "start_time": "2022-07-11T13:19:47.351905Z"
    }
   },
   "outputs": [
    {
     "name": "stdout",
     "output_type": "stream",
     "text": [
      "      IncomeRange  Credit Score\n",
      "0    Not employed    692.057143\n",
      "1       $1-24,999    666.983344\n",
      "2  $25,000-49,999    675.271324\n",
      "3  $50,000-74,999    689.842458\n",
      "4  $75,000-99,999    703.720930\n",
      "5       $100,000+    718.524333\n",
      "6   Not displayed    620.108448\n"
     ]
    },
    {
     "data": {
      "text/plain": [
       "Text(0.5, 0, '')"
      ]
     },
     "execution_count": 48,
     "metadata": {},
     "output_type": "execute_result"
    },
    {
     "data": {
      "image/png": "[encoded data removed]",
      "text/plain": [
       "<Figure size 720x360 with 1 Axes>"
      ]
     },
     "metadata": {
      "needs_background": "light"
     },
     "output_type": "display_data"
    }
   ],
   "source": [
    "# Visualize the relationship between income and credit score\n",
    "income_creditscore = loans.groupby(\n",
    "    'IncomeRange')['CreditScoreRangeLower'].mean()\n",
    "income_creditscore = income_creditscore.reset_index(name='Credit Score')\n",
    "print(income_creditscore)\n",
    "\n",
    "# Plot the relationship between income and debt\n",
    "plt.figure(figsize=[10, 5])\n",
    "sb.barplot(data=income_creditscore,\n",
    "           x='IncomeRange',\n",
    "           y='Credit Score',\n",
    "           color='black')\n",
    "plt.title('Relationship between Income and Credit Score')\n",
    "plt.xticks(rotation=15)\n",
    "plt.ylabel('Average Credit Score (%)')\n",
    "plt.xlabel('');"
   ]
  },
  {
   "cell_type": "markdown",
   "metadata": {},
   "source": [
    "##### Observation"
   ]
  },
  {
   "cell_type": "markdown",
   "metadata": {},
   "source": [
    "Clients whose income levels are not displayed have the least credit score. We observe that credit score increases with income from \\\\$1-24,999 to \\\\$100,000+. However, the overall relationship is confusing since those with \\\\$0 incomes have higher credit scores than those in the  \\\\$1-24,999 to \\\\$50,000-74,999 income groups. Hence the relationship is inconclusive. "
   ]
  },
  {
   "cell_type": "markdown",
   "metadata": {},
   "source": [
    "### Talk about some of the relationships you observed in this part of the investigation. How did the feature(s) of interest vary with other features in the dataset?\n",
    "\n",
    "- Loan default rate differs across employment groups. \n",
    "- There is a negative relationship between default rate and income such that higher income levels correspond to lower default rates.\n",
    "- Prosper Scores and default rates are inversely related such that higher Prosper Scores correspond to lower levels of default rate.\n",
    "- Loan default rate and the debt ratio are positively associated. \n",
    "- Borrower rate is positively associated with the default rate. That is, at high levels of borrower rate, the default rate is high. \n",
    "- Credit Score is negatively related to default rate i.e., Credit Score is higher among those who completed their loans compared to those who defaulted.\n",
    "\n",
    "### Did you observe any interesting relationships between the other features (not the main feature(s) of interest)?\n",
    "\n",
    "- The borrower rate differs marginally across employment groups with \"Others\" having the highest and \"Part-time\" having the least.\n",
    "- There is a negative association between debt ratio and income level. That is, high-income clients have lower debt-to-income ratios.\n",
    "- The relationship between income and credit score is inconclusive. "
   ]
  },
  {
   "cell_type": "markdown",
   "metadata": {},
   "source": [
    "## Multivariate Exploration\n",
    "\n",
    "In this section, we investigate the interactive effects of the following variables on Loan Status:\n",
    "- Employment Status and Borrower Rate\n",
    "- Income and Debt Ratio"
   ]
  },
  {
   "cell_type": "markdown",
   "metadata": {},
   "source": [
    "### Loan Status, Employment Status and Borrower Rate\n",
    "\n",
    "##### How does employment status affect the relationship between loan status and borrower rate?"
   ]
  },
  {
   "cell_type": "markdown",
   "metadata": {},
   "source": [
    "##### Visualization"
   ]
  },
  {
   "cell_type": "code",
   "execution_count": 49,
   "metadata": {
    "ExecuteTime": {
     "end_time": "2022-07-11T13:19:48.457672Z",
     "start_time": "2022-07-11T13:19:47.771983Z"
    }
   },
   "outputs": [
    {
     "data": {
      "text/plain": [
       "Text(0.5, 0, '')"
      ]
     },
     "execution_count": 49,
     "metadata": {},
     "output_type": "execute_result"
    },
    {
     "data": {
      "image/png": "[encoded data removed]",
      "text/plain": [
       "<Figure size 936x504 with 1 Axes>"
      ]
     },
     "metadata": {
      "needs_background": "light"
     },
     "output_type": "display_data"
    }
   ],
   "source": [
    "# Visualizing the relationship between employment status, loan status and borrower rate\n",
    "loan_emp_bor = loans.groupby([\n",
    "    'EmploymentStatus', 'LoanStatus'\n",
    "])['BorrowerRate'].median().sort_values(ascending=False) * 100\n",
    "loan_emp_bor = loan_emp_bor.reset_index(name='Median Borrower Rate')\n",
    "\n",
    "plt.figure(figsize=[13, 7])\n",
    "sb.barplot(data=loan_emp_bor,\n",
    "           x='EmploymentStatus',\n",
    "           y='Median Borrower Rate',\n",
    "           hue='LoanStatus')\n",
    "plt.title(\n",
    "    'Relationship between Loan Status, Employment Status and Borrower Rate')\n",
    "plt.ylabel('Median Borrower Rate (%)')\n",
    "plt.xlabel('');"
   ]
  },
  {
   "cell_type": "markdown",
   "metadata": {},
   "source": [
    "##### Observation"
   ]
  },
  {
   "cell_type": "markdown",
   "metadata": {},
   "source": [
    "Generally, we observe that the borrower rate for clients who defaulted is higher than those who completed the loan. On average, clients in the \"Other\" employment group have the highest borrower rate. In contrast, those in the \"Retired\" group have the least borrower rate. Furthermore, notice that the difference in borrower rate between clients that defaulted and those who completed is greatest among clients whose employment status is Not available (8%) and smallest for the Self-employed (0.26%)."
   ]
  },
  {
   "cell_type": "markdown",
   "metadata": {},
   "source": [
    "### Loan Status, Income, and Debt Ratio\n",
    "\n",
    "##### How does income affect the relationship between loan status and debt ratio?"
   ]
  },
  {
   "cell_type": "markdown",
   "metadata": {},
   "source": [
    "##### Visualization"
   ]
  },
  {
   "cell_type": "code",
   "execution_count": 50,
   "metadata": {
    "ExecuteTime": {
     "end_time": "2022-07-11T13:19:48.978345Z",
     "start_time": "2022-07-11T13:19:48.463670Z"
    }
   },
   "outputs": [
    {
     "data": {
      "text/plain": [
       "Text(0.5, 0, '')"
      ]
     },
     "execution_count": 50,
     "metadata": {},
     "output_type": "execute_result"
    },
    {
     "data": {
      "image/png": "[encoded data removed]",
      "text/plain": [
       "<Figure size 936x360 with 1 Axes>"
      ]
     },
     "metadata": {
      "needs_background": "light"
     },
     "output_type": "display_data"
    }
   ],
   "source": [
    "# Visualizing the relationship between loan Status, Income and debt ratio\n",
    "loan_income_debt = loans.groupby([\n",
    "    'IncomeRange', 'LoanStatus'\n",
    "])['DebtToIncomeRatio'].median().sort_values(ascending=False) * 100\n",
    "loan_income_debt = loan_income_debt.reset_index(name='Median Debt Ratio')\n",
    "\n",
    "plt.figure(figsize=[13, 5])\n",
    "sb.barplot(data=loan_income_debt,\n",
    "           x='IncomeRange',\n",
    "           y='Median Debt Ratio',\n",
    "           hue='LoanStatus')\n",
    "plt.title('Relationship between Loan Status, Income and Debt Ratio')\n",
    "plt.ylabel('Median Debt Ratio (%)')\n",
    "plt.xlabel('');"
   ]
  },
  {
   "cell_type": "markdown",
   "metadata": {},
   "source": [
    "##### Observation"
   ]
  },
  {
   "cell_type": "markdown",
   "metadata": {},
   "source": [
    "Observe that on average, for clients whose income is displayed, the debt ratio is higher for clients that defaulted compared to those that completed the loan. Also, the difference in debt ratio between those that defaulted and those that completed is largest among clients who are not employed."
   ]
  },
  {
   "cell_type": "markdown",
   "metadata": {},
   "source": [
    "### Talk about some of the relationships you observed in this part of the investigation. Were there features that strengthened each other in terms of looking at your feature(s) of interest? \n",
    "\n",
    "- The difference in borrower rate between clients that defaulted and those who completed varies across employment groups. The gap is greatest among clients whose employment status is Not available (8%) and smallest for the Self-employed (0.26%).\n",
    "\n",
    "- The difference in debt ratio between those that defaulted and those that completed is largest among clients who are not employed."
   ]
  },
  {
   "cell_type": "markdown",
   "metadata": {},
   "source": [
    "## Conclusions\n",
    "\n",
    "This analysis aimed to examine the predictors of loan default using exploratory data visualization techniques. Specifically, I investigated the relationship between loan default and the following variables: Employment Status, Income, Borrower Rate, Prosper Score, Credit Score, Debt to Income Ratio, and Amount Delinquent. I used data provided by Udacity containing 113,937 loans from Prosper Marketplace. \n",
    "\n",
    "**Summary of Findings**\n",
    "- I found that income, prosper score, and credit score has a negative relationship with loan default rates while borrower rate and debt to income ratios have a positive relationship with loan default rates. \n",
    "- Also, the loan default rate was found to differ across employment groups. \n",
    "- Furthermore, I found that the difference in borrower rate between clients that defaulted and those who completed varies across employment groups. \n",
    "- Similarly, the difference in debt ratio between those that defaulted and those that completed is largest among clients who are not employed."
   ]
  }
 ],
 "metadata": {
  "kernelspec": {
   "display_name": "Python 3 (ipykernel)",
   "language": "python",
   "name": "python3"
  },
  "language_info": {
   "codemirror_mode": {
    "name": "ipython",
    "version": 3
   },
   "file_extension": ".py",
   "mimetype": "text/x-python",
   "name": "python",
   "nbconvert_exporter": "python",
   "pygments_lexer": "ipython3",
   "version": "3.9.7"
  },
  "latex_envs": {
   "LaTeX_envs_menu_present": true,
   "autoclose": false,
   "autocomplete": true,
   "bibliofile": "biblio.bib",
   "cite_by": "apalike",
   "current_citInitial": 1,
   "eqLabelWithNumbers": true,
   "eqNumInitial": 1,
   "hotkeys": {
    "equation": "Ctrl-E",
    "itemize": "Ctrl-I"
   },
   "labels_anchors": false,
   "latex_user_defs": false,
   "report_style_numbering": false,
   "user_envs_cfg": false
  },
  "toc": {
   "base_numbering": 1,
   "nav_menu": {},
   "number_sections": true,
   "sideBar": true,
   "skip_h1_title": false,
   "title_cell": "Table of Contents",
   "title_sidebar": "Contents",
   "toc_cell": false,
   "toc_position": {},
   "toc_section_display": true,
   "toc_window_display": false
  }
 },
 "nbformat": 4,
 "nbformat_minor": 2
}
